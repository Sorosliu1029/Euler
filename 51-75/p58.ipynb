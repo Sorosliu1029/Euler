{
 "cells": [
  {
   "cell_type": "markdown",
   "metadata": {},
   "source": [
    "# Spiral primes"
   ]
  },
  {
   "cell_type": "markdown",
   "metadata": {},
   "source": [
    "<div class=\"problem_content\" role=\"problem\">\n",
    "<p>Starting with 1 and spiralling anticlockwise in the following way, a square spiral with side length 7 is formed.</p>\n",
    "<p style=\"text-align:center;font-family:'courier new';\"><span style=\"color:#ff0000;font-family:'courier new';\"><b>37</b></span> 36 35 34 33 32 <span style=\"color:#ff0000;font-family:'courier new';\"><b>31</b></span><br/>\n",
    "38 <span style=\"color:#ff0000;font-family:'courier new';\"><b>17</b></span> 16 15 14 <span style=\"color:#ff0000;font-family:'courier new';\"><b>13</b></span> 30<br/>\n",
    "39 18 <span style=\"color:#ff0000;font-family:'courier new';\"> <b>5</b></span>  4 <span style=\"color:#ff0000;font-family:'courier new';\"> <b>3</b></span> 12 29<br/>\n",
    "40 19  6  1  2 11 28<br/>\n",
    "41 20 <span style=\"color:#ff0000;font-family:'courier new';\"> <b>7</b></span>  8  9 10 27<br/>\n",
    "42 21 22 23 24 25 26<br/><span style=\"color:#ff0000;font-family:'courier new';\"><b>43</b></span> 44 45 46 47 48 49</p>\n",
    "<p>It is interesting to note that the odd squares lie along the bottom right diagonal, but what is more interesting is that 8 out of the 13 numbers lying along both diagonals are prime; that is, a ratio of 8/13 ≈ 62%.</p>\n",
    "<p>If one complete new layer is wrapped around the spiral above, a square spiral with side length 9 will be formed. If this process is continued, what is the side length of the square spiral for which the ratio of primes along both diagonals first falls below 10%?</p>\n",
    "</div>"
   ]
  },
  {
   "cell_type": "markdown",
   "metadata": {},
   "source": [
    "---"
   ]
  },
  {
   "cell_type": "markdown",
   "metadata": {},
   "source": [
    "### Idea"
   ]
  },
  {
   "cell_type": "markdown",
   "metadata": {},
   "source": [
    "Naive solution."
   ]
  },
  {
   "cell_type": "markdown",
   "metadata": {},
   "source": [
    "---"
   ]
  },
  {
   "cell_type": "code",
   "execution_count": 1,
   "metadata": {},
   "outputs": [],
   "source": [
    "import sys, os; sys.path.append(os.path.abspath('..'))\n",
    "from timer import timethis\n",
    "from math import sqrt"
   ]
  },
  {
   "cell_type": "code",
   "execution_count": 2,
   "metadata": {},
   "outputs": [],
   "source": [
    "def generate_corners():\n",
    "    layer = 1\n",
    "    corner_start = 3\n",
    "    while True:\n",
    "        yield range(corner_start, corner_start+8*layer, 2*layer)\n",
    "        corner_start += 6 * layer + (layer+1)*2\n",
    "        layer += 1"
   ]
  },
  {
   "cell_type": "code",
   "execution_count": 3,
   "metadata": {},
   "outputs": [
    {
     "name": "stdout",
     "output_type": "stream",
     "text": [
      "[3, 5, 7, 9]\n",
      "[13, 17, 21, 25]\n",
      "[31, 37, 43, 49]\n"
     ]
    }
   ],
   "source": [
    "g = generate_corners()\n",
    "for _ in range(3):\n",
    "    print(list(next(g)))"
   ]
  },
  {
   "cell_type": "code",
   "execution_count": 4,
   "metadata": {},
   "outputs": [],
   "source": [
    "def is_prime(n):\n",
    "    return all([n % d != 0 for d in range(3, int(sqrt(n))+1, 2)])"
   ]
  },
  {
   "cell_type": "code",
   "execution_count": 5,
   "metadata": {},
   "outputs": [
    {
     "data": {
      "text/plain": [
       "True"
      ]
     },
     "execution_count": 5,
     "metadata": {},
     "output_type": "execute_result"
    }
   ],
   "source": [
    "is_prime(7)"
   ]
  },
  {
   "cell_type": "code",
   "execution_count": 6,
   "metadata": {},
   "outputs": [
    {
     "data": {
      "text/plain": [
       "False"
      ]
     },
     "execution_count": 6,
     "metadata": {},
     "output_type": "execute_result"
    }
   ],
   "source": [
    "is_prime(15)"
   ]
  },
  {
   "cell_type": "code",
   "execution_count": 7,
   "metadata": {},
   "outputs": [],
   "source": [
    "@timethis\n",
    "def solve():\n",
    "    all_corners = 1\n",
    "    prime_corners = 0\n",
    "    for i, corners in enumerate(generate_corners(), 1):\n",
    "        all_corners += 4\n",
    "        prime_corners += sum(map(is_prime, corners))\n",
    "        if prime_corners / all_corners < 0.1:\n",
    "            return 2*i+1"
   ]
  },
  {
   "cell_type": "code",
   "execution_count": 8,
   "metadata": {},
   "outputs": [
    {
     "name": "stdout",
     "output_type": "stream",
     "text": [
      "Run for 32.688 seconds\n"
     ]
    },
    {
     "data": {
      "text/plain": [
       "26241"
      ]
     },
     "execution_count": 8,
     "metadata": {},
     "output_type": "execute_result"
    }
   ],
   "source": [
    "solve()"
   ]
  }
 ],
 "metadata": {
  "authors": [
   {
    "name": "Soros Liu"
   }
  ],
  "kernelspec": {
   "display_name": "Python 3",
   "language": "python",
   "name": "python3"
  },
  "language_info": {
   "codemirror_mode": {
    "name": "ipython",
    "version": 3
   },
   "file_extension": ".py",
   "mimetype": "text/x-python",
   "name": "python",
   "nbconvert_exporter": "python",
   "pygments_lexer": "ipython3",
   "version": "3.6.1"
  }
 },
 "nbformat": 4,
 "nbformat_minor": 2
}
