{
 "cells": [
  {
   "cell_type": "markdown",
   "metadata": {},
   "source": [
    "# Combinatoric selections"
   ]
  },
  {
   "cell_type": "markdown",
   "metadata": {},
   "source": [
    "<div class=\"problem_content\" role=\"problem\">\n",
    "<p>There are exactly ten ways of selecting three from five, 12345:</p>\n",
    "<p style=\"text-align:center;\">123, 124, 125, 134, 135, 145, 234, 235, 245, and 345</p>\n",
    "<p>In combinatorics, we use the notation, <sup>5</sup>C<sub>3</sub> = 10.</p>\n",
    "<p>In general,</p>\n",
    "<div style=\"text-align:center;\">\n",
    "<table><tr><td><sup><var>n</var></sup>C<sub><var>r</var></sub> = </td>\n",
    "<td><div style=\"text-align:center;\"><var>n</var>!<br/><span style=\"border-top:1px solid #000;\"><var>r</var>!(<var>n−r</var>)!</span></div></td>\n",
    "<td>,where <var>r</var> ≤ <var>n</var>, <var>n</var>! = <var>n</var>×(<var>n</var>−1)×...×3×2×1, and 0! = 1.</td>\n",
    "</tr></table></div>\n",
    "<p>It is not until <var>n</var> = 23, that a value exceeds one-million: <sup>23</sup>C<sub>10</sub> = 1144066.</p>\n",
    "<p>How many, not necessarily distinct, values of  <sup><var>n</var></sup>C<sub><var>r</var></sub>, for 1 ≤ <var>n</var> ≤ 100, are greater than one-million?</p>\n",
    "</div>"
   ]
  },
  {
   "cell_type": "markdown",
   "metadata": {},
   "source": [
    "---"
   ]
  },
  {
   "cell_type": "markdown",
   "metadata": {},
   "source": [
    "### Idea"
   ]
  },
  {
   "cell_type": "markdown",
   "metadata": {},
   "source": [
    "Naive solution, as instructed."
   ]
  },
  {
   "cell_type": "markdown",
   "metadata": {},
   "source": [
    "---"
   ]
  },
  {
   "cell_type": "code",
   "execution_count": 1,
   "metadata": {},
   "outputs": [],
   "source": [
    "import sys, os; sys.path.append(os.path.abspath('..'))\n",
    "from timer import timethis\n",
    "from math import factorial"
   ]
  },
  {
   "cell_type": "code",
   "execution_count": 2,
   "metadata": {},
   "outputs": [],
   "source": [
    "def get_combinatoric(n, r):\n",
    "    return factorial(n) // (factorial(r) * factorial(n -r))"
   ]
  },
  {
   "cell_type": "code",
   "execution_count": 3,
   "metadata": {},
   "outputs": [
    {
     "data": {
      "text/plain": [
       "10"
      ]
     },
     "execution_count": 3,
     "metadata": {},
     "output_type": "execute_result"
    }
   ],
   "source": [
    "get_combinatoric(5, 3)"
   ]
  },
  {
   "cell_type": "code",
   "execution_count": 4,
   "metadata": {},
   "outputs": [],
   "source": [
    "@timethis\n",
    "def solve():\n",
    "    odd_cnt = 0\n",
    "    for n in range(1, 101, 2):\n",
    "        cnt = 0\n",
    "        for r in range(n // 2 + 1):\n",
    "            if get_combinatoric(n, r) > 1e6:\n",
    "                cnt += 1\n",
    "        odd_cnt += cnt * 2\n",
    "        \n",
    "    even_cnt = 0\n",
    "    for n in range(2, 101, 2):\n",
    "        cnt = 0\n",
    "        for r in range(n // 2):\n",
    "            if get_combinatoric(n ,r) > 1e6:\n",
    "                cnt += 1\n",
    "        even_cnt = even_cnt + cnt * 2 + (get_combinatoric(n, n//2) > 1e6)\n",
    "    \n",
    "    return odd_cnt + even_cnt"
   ]
  },
  {
   "cell_type": "code",
   "execution_count": 5,
   "metadata": {},
   "outputs": [
    {
     "name": "stdout",
     "output_type": "stream",
     "text": [
      "Run for 0.000 seconds\n"
     ]
    },
    {
     "data": {
      "text/plain": [
       "4075"
      ]
     },
     "execution_count": 5,
     "metadata": {},
     "output_type": "execute_result"
    }
   ],
   "source": [
    "solve()"
   ]
  }
 ],
 "metadata": {
  "authors": [
   {
    "name": "Soros Liu"
   }
  ],
  "kernelspec": {
   "display_name": "Python 3",
   "language": "python",
   "name": "python3"
  },
  "language_info": {
   "codemirror_mode": {
    "name": "ipython",
    "version": 3
   },
   "file_extension": ".py",
   "mimetype": "text/x-python",
   "name": "python",
   "nbconvert_exporter": "python",
   "pygments_lexer": "ipython3",
   "version": "3.6.1"
  }
 },
 "nbformat": 4,
 "nbformat_minor": 2
}
