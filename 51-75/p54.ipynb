{
 "cells": [
  {
   "cell_type": "markdown",
   "metadata": {},
   "source": [
    "# Poker hands"
   ]
  },
  {
   "cell_type": "markdown",
   "metadata": {},
   "source": [
    "<p>In the card game poker, a hand consists of five cards and are ranked, from lowest to highest, in the following way:</p>\n",
    "<ul><li><b>High Card</b>: Highest value card.</li>\n",
    "<li><b>One Pair</b>: Two cards of the same value.</li>\n",
    "<li><b>Two Pairs</b>: Two different pairs.</li>\n",
    "<li><b>Three of a Kind</b>: Three cards of the same value.</li>\n",
    "<li><b>Straight</b>: All cards are consecutive values.</li>\n",
    "<li><b>Flush</b>: All cards of the same suit.</li>\n",
    "<li><b>Full House</b>: Three of a kind and a pair.</li>\n",
    "<li><b>Four of a Kind</b>: Four cards of the same value.</li>\n",
    "<li><b>Straight Flush</b>: All cards are consecutive values of same suit.</li>\n",
    "<li><b>Royal Flush</b>: Ten, Jack, Queen, King, Ace, in same suit.</li>\n",
    "</ul><p>The cards are valued in the order:<br>2, 3, 4, 5, 6, 7, 8, 9, 10, Jack, Queen, King, Ace.</p>\n",
    "<p>If two players have the same ranked hands then the rank made up of the highest value wins; for example, a pair of eights beats a pair of fives (see example 1 below). But if two ranks tie, for example, both players have a pair of queens, then highest cards in each hand are compared (see example 4 below); if the highest cards tie then the next highest cards are compared, and so on.</p>\n",
    "<p>Consider the following five hands dealt to two players:</p>\n",
    "<div style=\"text-align:center;\">\n",
    "<table><tbody><tr><td><b>Hand</b></td><td>&nbsp;</td><td><b>Player 1</b></td><td>&nbsp;</td><td><b>Player 2</b></td><td>&nbsp;</td><td><b>Winner</b></td>\n",
    "</tr><tr><td style=\"vertical-align:top;\"><b>1</b></td><td>&nbsp;</td><td>5H 5C 6S 7S KD<br><div class=\"note\">Pair of Fives</div></td><td>&nbsp;</td><td>2C 3S 8S 8D TD<br><div class=\"note\">Pair of Eights</div></td><td>&nbsp;</td><td style=\"vertical-align:top;\">Player 2</td>\n",
    "</tr><tr><td style=\"vertical-align:top;\"><b>2</b></td><td>&nbsp;</td><td>5D 8C 9S JS AC<br><div class=\"note\">Highest card Ace</div></td><td>&nbsp;</td><td>2C 5C 7D 8S QH<br><div class=\"note\">Highest card Queen</div></td><td>&nbsp;</td><td style=\"vertical-align:top;\">Player 1</td>\n",
    "</tr><tr><td style=\"vertical-align:top;\"><b>3</b></td><td>&nbsp;</td><td>2D 9C AS AH AC<br><div class=\"note\">Three Aces</div></td><td>&nbsp;</td><td>3D 6D 7D TD QD<br><div class=\"note\">Flush  with Diamonds</div></td><td>&nbsp;</td><td style=\"vertical-align:top;\">Player 2</td>\n",
    "</tr><tr><td style=\"vertical-align:top;\"><b>4</b></td><td>&nbsp;</td><td>4D 6S 9H QH QC<br><div class=\"note\">Pair of Queens<br>Highest card Nine</div></td><td>&nbsp;</td><td>3D 6D 7H QD QS<br><div class=\"note\">Pair of Queens<br>Highest card Seven</div></td><td>&nbsp;</td><td style=\"vertical-align:top;\">Player 1</td>\n",
    "</tr><tr><td style=\"vertical-align:top;\"><b>5</b></td><td>&nbsp;</td><td>2H 2D 4C 4D 4S<br><div class=\"note\">Full House<br>With Three Fours</div></td><td>&nbsp;</td><td>3C 3D 3S 9S 9D<br><div class=\"note\">Full House<br>with Three Threes</div></td><td>&nbsp;</td><td style=\"vertical-align:top;\">Player 1</td>\n",
    "</tr></tbody></table></div>\n",
    "<p>The file, <a href=\"https://projecteuler.net/project/resources/p054_poker.txt\">poker.txt</a>, contains one-thousand random hands dealt to two players. Each line of the file contains ten cards (separated by a single space): the first five are Player 1's cards and the last five are Player 2's cards. You can assume that all hands are valid (no invalid characters or repeated cards), each player's hand is in no specific order, and in each hand there is a clear winner.</p>\n",
    "<p>How many hands does Player 1 win?</p>"
   ]
  },
  {
   "cell_type": "markdown",
   "metadata": {},
   "source": [
    "---"
   ]
  },
  {
   "cell_type": "markdown",
   "metadata": {},
   "source": [
    "### Idea"
   ]
  },
  {
   "cell_type": "markdown",
   "metadata": {},
   "source": [
    "Quite direct solution. Just be patient.\n",
    "\n",
    "From highest to lowest, check if a certain rank pattern exists in player's hand cards."
   ]
  },
  {
   "cell_type": "markdown",
   "metadata": {},
   "source": [
    "---"
   ]
  },
  {
   "cell_type": "code",
   "execution_count": 1,
   "metadata": {
    "collapsed": true
   },
   "outputs": [],
   "source": [
    "from urllib.request import urlopen\n",
    "from collections import Counter"
   ]
  },
  {
   "cell_type": "code",
   "execution_count": 2,
   "metadata": {
    "collapsed": true
   },
   "outputs": [],
   "source": [
    "with urlopen('https://projecteuler.net/project/resources/p054_poker.txt') as f:\n",
    "    resp = f.read().decode('utf-8')"
   ]
  },
  {
   "cell_type": "code",
   "execution_count": 3,
   "metadata": {
    "collapsed": true
   },
   "outputs": [],
   "source": [
    "def transform_value(v):\n",
    "    if '2' <= v <= '9':\n",
    "        return int(v)\n",
    "    else:\n",
    "        if v == 'T':\n",
    "            return 10\n",
    "        elif v == 'J':\n",
    "            return 11\n",
    "        elif v == 'Q':\n",
    "            return 12\n",
    "        elif v == 'K':\n",
    "            return 13\n",
    "        elif v == 'A':\n",
    "            return 14\n",
    "        else:\n",
    "            raise ValueError('Wrong representation')"
   ]
  },
  {
   "cell_type": "code",
   "execution_count": 4,
   "metadata": {},
   "outputs": [
    {
     "data": {
      "text/plain": [
       "[2, 3, 4, 5, 6, 7, 8, 9, 10, 11, 12, 13, 14]"
      ]
     },
     "execution_count": 4,
     "metadata": {},
     "output_type": "execute_result"
    }
   ],
   "source": [
    "[transform_value(v) for v in list(map(str, range(2, 10))) + ['T', 'J', 'Q', 'K', 'A']]"
   ]
  },
  {
   "cell_type": "code",
   "execution_count": 5,
   "metadata": {
    "collapsed": true
   },
   "outputs": [],
   "source": [
    "def transform_hand(hand):\n",
    "    values = list(map(transform_value, [c[0] for c in hand]))\n",
    "    suits = [c[1] for c in hand]\n",
    "    return sorted(zip(values, suits))"
   ]
  },
  {
   "cell_type": "code",
   "execution_count": 6,
   "metadata": {},
   "outputs": [
    {
     "data": {
      "text/plain": [
       "[(5, 'C'), (5, 'H'), (6, 'S'), (7, 'S'), (13, 'D')]"
      ]
     },
     "execution_count": 6,
     "metadata": {},
     "output_type": "execute_result"
    }
   ],
   "source": [
    "transform_hand(['5H', '5C', '6S', '7S', 'KD'])"
   ]
  },
  {
   "cell_type": "code",
   "execution_count": 7,
   "metadata": {
    "collapsed": true
   },
   "outputs": [],
   "source": [
    "def split_hand(hand):\n",
    "    cards = hand.split(' ')\n",
    "    p1, p2 = cards[:5], cards[-5:]\n",
    "    return transform_hand(p1), transform_hand(p2)"
   ]
  },
  {
   "cell_type": "code",
   "execution_count": 8,
   "metadata": {},
   "outputs": [
    {
     "data": {
      "text/plain": [
       "([(5, 'C'), (5, 'H'), (6, 'S'), (7, 'S'), (13, 'D')],\n",
       " [(2, 'C'), (3, 'S'), (8, 'D'), (8, 'S'), (10, 'D')])"
      ]
     },
     "execution_count": 8,
     "metadata": {},
     "output_type": "execute_result"
    }
   ],
   "source": [
    "split_hand('5H 5C 6S 7S KD 2C 3S 8S 8D TD')"
   ]
  },
  {
   "cell_type": "code",
   "execution_count": 9,
   "metadata": {
    "collapsed": true
   },
   "outputs": [],
   "source": [
    "def generate_hand(text):\n",
    "    hands = text.splitlines()\n",
    "    for hand in hands:\n",
    "        yield split_hand(hand)"
   ]
  },
  {
   "cell_type": "code",
   "execution_count": 10,
   "metadata": {},
   "outputs": [],
   "source": [
    "def get_royal_flush(hand):\n",
    "    if hand[0][0] == 10 and hand[-1][0] == 14 and \\\n",
    "        len([c[0] for c in hand]) == len(set([c[0] for c in hand])) and \\\n",
    "        len(set([c[1] for c in hand])) == 1:\n",
    "        return 'BOOM'\n",
    "    else:\n",
    "        return None"
   ]
  },
  {
   "cell_type": "code",
   "execution_count": 11,
   "metadata": {},
   "outputs": [
    {
     "data": {
      "text/plain": [
       "'BOOM'"
      ]
     },
     "execution_count": 11,
     "metadata": {},
     "output_type": "execute_result"
    }
   ],
   "source": [
    "get_royal_flush([(10, 'C'), (11, 'C'), (12, 'C'), (13, 'C'), (14, 'C')])"
   ]
  },
  {
   "cell_type": "code",
   "execution_count": 12,
   "metadata": {},
   "outputs": [],
   "source": [
    "get_royal_flush([(10, 'C'), (11, 'C'), (12, 'C'), (12, 'C'), (14, 'C')])"
   ]
  },
  {
   "cell_type": "code",
   "execution_count": 13,
   "metadata": {
    "collapsed": true
   },
   "outputs": [],
   "source": [
    "def get_straight_flush(hand):\n",
    "    if len([c[0] for c in hand]) == len(set([c[0] for c in hand])) and \\\n",
    "        hand[-1][0] - hand[0][0] == 4 and \\\n",
    "        len(set([c[1] for c in hand])) == 1:\n",
    "        return hand[0][0]\n",
    "    else:\n",
    "        return None"
   ]
  },
  {
   "cell_type": "code",
   "execution_count": 14,
   "metadata": {},
   "outputs": [
    {
     "data": {
      "text/plain": [
       "2"
      ]
     },
     "execution_count": 14,
     "metadata": {},
     "output_type": "execute_result"
    }
   ],
   "source": [
    "get_straight_flush([(2, 'C'), (3, 'C'), (4, 'C'), (5, 'C'), (6, 'C')])"
   ]
  },
  {
   "cell_type": "code",
   "execution_count": 15,
   "metadata": {},
   "outputs": [],
   "source": [
    "get_straight_flush([(2, 'C'), (3, 'C'), (4, 'C'), (5, 'C'), (10, 'C')])"
   ]
  },
  {
   "cell_type": "code",
   "execution_count": 16,
   "metadata": {
    "collapsed": true
   },
   "outputs": [],
   "source": [
    "def get_a_kind(hand):\n",
    "    c = Counter([c[0] for c in hand])\n",
    "    vk = [(v, k) for k, v in c.items()]\n",
    "    return sorted(vk, reverse=True)    "
   ]
  },
  {
   "cell_type": "code",
   "execution_count": 17,
   "metadata": {},
   "outputs": [
    {
     "data": {
      "text/plain": [
       "[(3, 2), (1, 4), (1, 3)]"
      ]
     },
     "execution_count": 17,
     "metadata": {},
     "output_type": "execute_result"
    }
   ],
   "source": [
    "get_a_kind([(2, 'C'), (2, 'H'), (2, 'S'), (3, 'C'), (4, 'C')])"
   ]
  },
  {
   "cell_type": "code",
   "execution_count": 18,
   "metadata": {},
   "outputs": [
    {
     "data": {
      "text/plain": [
       "[(3, 2), (2, 3)]"
      ]
     },
     "execution_count": 18,
     "metadata": {},
     "output_type": "execute_result"
    }
   ],
   "source": [
    "get_a_kind([(2, 'C'), (2, 'H'), (2, 'S'), (3, 'C'), (3, 'H')])"
   ]
  },
  {
   "cell_type": "code",
   "execution_count": 19,
   "metadata": {},
   "outputs": [
    {
     "data": {
      "text/plain": [
       "[(2, 3), (2, 2), (1, 4)]"
      ]
     },
     "execution_count": 19,
     "metadata": {},
     "output_type": "execute_result"
    }
   ],
   "source": [
    "get_a_kind([(2, 'C'), (2, 'H'), (3, 'S'), (3, 'C'), (4, 'C')])"
   ]
  },
  {
   "cell_type": "code",
   "execution_count": 20,
   "metadata": {},
   "outputs": [
    {
     "data": {
      "text/plain": [
       "[(2, 2), (1, 5), (1, 4), (1, 3)]"
      ]
     },
     "execution_count": 20,
     "metadata": {},
     "output_type": "execute_result"
    }
   ],
   "source": [
    "get_a_kind([(2, 'C'), (2, 'H'), (5, 'S'), (3, 'C'), (4, 'C')])"
   ]
  },
  {
   "cell_type": "code",
   "execution_count": 21,
   "metadata": {},
   "outputs": [
    {
     "data": {
      "text/plain": [
       "[(1, 11), (1, 10), (1, 4), (1, 3), (1, 2)]"
      ]
     },
     "execution_count": 21,
     "metadata": {},
     "output_type": "execute_result"
    }
   ],
   "source": [
    "get_a_kind([(2, 'C'), (10, 'H'), (11, 'S'), (3, 'C'), (4, 'C')])"
   ]
  },
  {
   "cell_type": "code",
   "execution_count": 22,
   "metadata": {
    "collapsed": true
   },
   "outputs": [],
   "source": [
    "def get_four_of_a_kind(hand):\n",
    "    h = get_a_kind(hand)\n",
    "    if h[0][0] == 4:\n",
    "        return h\n",
    "    else:\n",
    "        return None"
   ]
  },
  {
   "cell_type": "code",
   "execution_count": 23,
   "metadata": {
    "collapsed": true
   },
   "outputs": [],
   "source": [
    "def get_full_house(hand):\n",
    "    h = get_a_kind(hand)\n",
    "    if h[0][0] == 3 and h[1][0] == 2:\n",
    "        return h\n",
    "    else:\n",
    "        return None"
   ]
  },
  {
   "cell_type": "code",
   "execution_count": 24,
   "metadata": {
    "collapsed": true
   },
   "outputs": [],
   "source": [
    "def get_flush(hand):\n",
    "    h = get_a_kind(hand)\n",
    "    if len(set([c[1] for c in hand])) == 1:\n",
    "        return h\n",
    "    else:\n",
    "        return None"
   ]
  },
  {
   "cell_type": "code",
   "execution_count": 25,
   "metadata": {
    "collapsed": true
   },
   "outputs": [],
   "source": [
    "def get_straight(hand):\n",
    "    if len([c[0] for c in hand]) == len(set([c[0] for c in hand])) and \\\n",
    "        hand[-1][0] - hand[0][0] == 4:\n",
    "        return hand[0][0]\n",
    "    else:\n",
    "        return None"
   ]
  },
  {
   "cell_type": "code",
   "execution_count": 26,
   "metadata": {
    "collapsed": true
   },
   "outputs": [],
   "source": [
    "def get_three_of_a_kind(hand):\n",
    "    h = get_a_kind(hand)\n",
    "    if h[0][0] == 3:\n",
    "        return h\n",
    "    else:\n",
    "        return None"
   ]
  },
  {
   "cell_type": "code",
   "execution_count": 27,
   "metadata": {
    "collapsed": true
   },
   "outputs": [],
   "source": [
    "def get_two_pairs(hand):\n",
    "    h = get_a_kind(hand)\n",
    "    if h[0][0] == 2 and h[1][0] == 2:\n",
    "        return h\n",
    "    else:\n",
    "        return None"
   ]
  },
  {
   "cell_type": "code",
   "execution_count": 28,
   "metadata": {
    "collapsed": true
   },
   "outputs": [],
   "source": [
    "def get_others(hand):\n",
    "    return get_a_kind(hand)"
   ]
  },
  {
   "cell_type": "code",
   "execution_count": 29,
   "metadata": {
    "collapsed": true
   },
   "outputs": [],
   "source": [
    "check_ranks = [get_royal_flush, get_straight_flush, get_four_of_a_kind, \n",
    "              get_full_house, get_flush, get_straight,\n",
    "               get_three_of_a_kind, get_two_pairs, get_others]"
   ]
  },
  {
   "cell_type": "code",
   "execution_count": 30,
   "metadata": {
    "collapsed": true
   },
   "outputs": [],
   "source": [
    "def solve():\n",
    "    p1_win_cnt = 0\n",
    "    p2_win_cnt = 0\n",
    "    for p1, p2 in generate_hand(resp):\n",
    "        p1_result = [rank(p1) for rank in check_ranks]\n",
    "        p2_result = [rank(p2) for rank in check_ranks]\n",
    "        for r1, r2 in zip(p1_result, p2_result):\n",
    "            if r1 is None and r2 is None:\n",
    "                continue\n",
    "            elif r1 and r2 is None:\n",
    "                p1_win_cnt += 1\n",
    "            elif r2 and r1 is None:\n",
    "                p2_win_cnt += 1\n",
    "            elif r1 > r2:\n",
    "                p1_win_cnt += 1\n",
    "            elif r2 > r1:\n",
    "                p2_win_cnt += 1\n",
    "            else:\n",
    "                raise ValueError('A tie occurs')\n",
    "            break\n",
    "    assert p1_win_cnt + p2_win_cnt == 1000\n",
    "    return p1_win_cnt"
   ]
  },
  {
   "cell_type": "code",
   "execution_count": 31,
   "metadata": {},
   "outputs": [
    {
     "data": {
      "text/plain": [
       "376"
      ]
     },
     "execution_count": 31,
     "metadata": {},
     "output_type": "execute_result"
    }
   ],
   "source": [
    "solve()"
   ]
  }
 ],
 "metadata": {
  "authors": [
   {
    "name": "Soros Liu"
   }
  ],
  "kernelspec": {
   "display_name": "Python [py3]",
   "language": "python",
   "name": "Python [py3]"
  },
  "language_info": {
   "codemirror_mode": {
    "name": "ipython",
    "version": 3
   },
   "file_extension": ".py",
   "mimetype": "text/x-python",
   "name": "python",
   "nbconvert_exporter": "python",
   "pygments_lexer": "ipython3",
   "version": "3.6.4"
  }
 },
 "nbformat": 4,
 "nbformat_minor": 2
}
