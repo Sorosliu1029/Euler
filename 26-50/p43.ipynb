{
 "cells": [
  {
   "cell_type": "markdown",
   "metadata": {},
   "source": [
    "# Sub-string divisibility"
   ]
  },
  {
   "cell_type": "markdown",
   "metadata": {},
   "source": [
    "<p>The number, 1406357289, is a 0 to 9 pandigital number because it is made up of each of the digits 0 to 9 in some order, but it also has a rather interesting sub-string divisibility property.</p>\n",
    "<p>Let <i>d</i><sub>1</sub> be the 1<sup>st</sup> digit, <i>d</i><sub>2</sub> be the 2<sup>nd</sup> digit, and so on. In this way, we note the following:</p>\n",
    "<ul><li><i>d</i><sub>2</sub><i>d</i><sub>3</sub><i>d</i><sub>4</sub>=406 is divisible by 2</li>\n",
    "<li><i>d</i><sub>3</sub><i>d</i><sub>4</sub><i>d</i><sub>5</sub>=063 is divisible by 3</li>\n",
    "<li><i>d</i><sub>4</sub><i>d</i><sub>5</sub><i>d</i><sub>6</sub>=635 is divisible by 5</li>\n",
    "<li><i>d</i><sub>5</sub><i>d</i><sub>6</sub><i>d</i><sub>7</sub>=357 is divisible by 7</li>\n",
    "<li><i>d</i><sub>6</sub><i>d</i><sub>7</sub><i>d</i><sub>8</sub>=572 is divisible by 11</li>\n",
    "<li><i>d</i><sub>7</sub><i>d</i><sub>8</sub><i>d</i><sub>9</sub>=728 is divisible by 13</li>\n",
    "<li><i>d</i><sub>8</sub><i>d</i><sub>9</sub><i>d</i><sub>10</sub>=289 is divisible by 17</li>\n",
    "</ul><p>Find the sum of all 0 to 9 pandigital numbers with this property.</p>"
   ]
  },
  {
   "cell_type": "markdown",
   "metadata": {},
   "source": [
    "---"
   ]
  },
  {
   "cell_type": "markdown",
   "metadata": {},
   "source": [
    "### Idea"
   ]
  },
  {
   "cell_type": "markdown",
   "metadata": {},
   "source": [
    "At first glance, we get:\n",
    "$\n",
    "\\begin{cases}\n",
    "d_4 \\bmod 2 = 0 \\\\\n",
    "(d_3+d_4+d_5) \\bmod 3 = 0 \\\\\n",
    "d_6 = 0 \\ or \\ 5\n",
    "\\end{cases}\n",
    "$\n",
    "\n",
    "if $d_6=0$, then $d_7, d_8$ must be same if \"$d_6d_7d_8$ is divisible by 11\", which violates the rule of pandigital.  \n",
    "So, $ d_6 =5 $, this is the key to this problem.\n",
    "\n",
    "Then start with \"$d_6d_7d_8$ is divisible by 11\", we can get $d_6d_7d_8$ must be in [506, 517, 528, 539, 561, 572, 583, 594]\n",
    "\n",
    "Then start with \"$d_7d_8d_9$ is divisible by 13\", we can get $d_7d_8d_9$ must be in [286, 390, 728, 832]\n",
    "\n",
    "Then start with \"$d_8d_9d_{10}$ is divisible by 17\", we can get $d_8d_9d_{10}$ must be in [867, 901, 289]\n",
    "\n",
    "Chain the above three conclusions, we get $d_6d_7d_8d_9d_{10}$ must be in [52867, 53901, 57289]\n",
    "\n",
    "Together with the first observation, we can reduce search space quite a lot."
   ]
  },
  {
   "cell_type": "markdown",
   "metadata": {},
   "source": [
    "---"
   ]
  },
  {
   "cell_type": "code",
   "execution_count": 1,
   "metadata": {
    "collapsed": true
   },
   "outputs": [],
   "source": [
    "from math import ceil\n",
    "from itertools import permutations\n",
    "from functools import reduce"
   ]
  },
  {
   "cell_type": "code",
   "execution_count": 2,
   "metadata": {
    "collapsed": false
   },
   "outputs": [
    {
     "data": {
      "text/plain": [
       "[506, 517, 528, 539, 550, 561, 572, 583, 594]"
      ]
     },
     "execution_count": 2,
     "metadata": {},
     "output_type": "execute_result"
    }
   ],
   "source": [
    "# divisible by 11\n",
    "[11 * i for i in range(ceil(500 / 11), ceil(600 / 11))]"
   ]
  },
  {
   "cell_type": "code",
   "execution_count": 3,
   "metadata": {
    "collapsed": false
   },
   "outputs": [
    {
     "data": {
      "text/plain": [
       "[65, 182, 286, 390, 611, 728, 832, 949]"
      ]
     },
     "execution_count": 3,
     "metadata": {},
     "output_type": "execute_result"
    }
   ],
   "source": [
    "# divisible by 13\n",
    "[13 * ceil((i*10) / 13) for i in [6, 17, 28, 39, 61, 72, 83, 94]]"
   ]
  },
  {
   "cell_type": "code",
   "execution_count": 4,
   "metadata": {
    "collapsed": false
   },
   "outputs": [
    {
     "data": {
      "text/plain": [
       "[867, 901, 289, 323]"
      ]
     },
     "execution_count": 4,
     "metadata": {},
     "output_type": "execute_result"
    }
   ],
   "source": [
    "# divisible by 17\n",
    "[17 * ceil((i % 100) * 10 / 17) for i in [286, 390, 728, 832]]"
   ]
  },
  {
   "cell_type": "code",
   "execution_count": 5,
   "metadata": {
    "collapsed": true
   },
   "outputs": [],
   "source": [
    "def get_remain_digits_permuations(last_five_digits):\n",
    "    remain = set(range(10)) - set(map(int, str(last_five_digits)))\n",
    "    return permutations(remain)"
   ]
  },
  {
   "cell_type": "code",
   "execution_count": 6,
   "metadata": {
    "collapsed": false
   },
   "outputs": [
    {
     "data": {
      "text/plain": [
       "[(0, 1, 3, 4, 9),\n",
       " (0, 1, 3, 9, 4),\n",
       " (0, 1, 4, 3, 9),\n",
       " (0, 1, 4, 9, 3),\n",
       " (0, 1, 9, 3, 4),\n",
       " (0, 1, 9, 4, 3),\n",
       " (0, 3, 1, 4, 9),\n",
       " (0, 3, 1, 9, 4),\n",
       " (0, 3, 4, 1, 9),\n",
       " (0, 3, 4, 9, 1)]"
      ]
     },
     "execution_count": 6,
     "metadata": {},
     "output_type": "execute_result"
    }
   ],
   "source": [
    "list(get_remain_digits_permuations(52867))[:10]"
   ]
  },
  {
   "cell_type": "code",
   "execution_count": 7,
   "metadata": {
    "collapsed": true
   },
   "outputs": [],
   "source": [
    "def is_candidate(permutation):\n",
    "    # divisible by 2 and 3\n",
    "    return permutation[3] % 2 == 0 and sum(permutation[2:5]) % 3 == 0"
   ]
  },
  {
   "cell_type": "code",
   "execution_count": 8,
   "metadata": {
    "collapsed": false
   },
   "outputs": [
    {
     "data": {
      "text/plain": [
       "True"
      ]
     },
     "execution_count": 8,
     "metadata": {},
     "output_type": "execute_result"
    }
   ],
   "source": [
    "is_candidate((1,4,0,6,3))"
   ]
  },
  {
   "cell_type": "code",
   "execution_count": 9,
   "metadata": {
    "collapsed": true
   },
   "outputs": [],
   "source": [
    "def combine_digits(digits):\n",
    "    return reduce(lambda n, d: n*10+d, digits, 0)"
   ]
  },
  {
   "cell_type": "code",
   "execution_count": 10,
   "metadata": {
    "collapsed": false
   },
   "outputs": [
    {
     "data": {
      "text/plain": [
       "234"
      ]
     },
     "execution_count": 10,
     "metadata": {},
     "output_type": "execute_result"
    }
   ],
   "source": [
    "combine_digits([2, 3, 4])"
   ]
  },
  {
   "cell_type": "code",
   "execution_count": 11,
   "metadata": {
    "collapsed": true
   },
   "outputs": [],
   "source": [
    "def is_substring_divisible(candidate):\n",
    "    # divisible by 7\n",
    "    return combine_digits(candidate[4:7]) % 7 == 0"
   ]
  },
  {
   "cell_type": "code",
   "execution_count": 12,
   "metadata": {
    "collapsed": true
   },
   "outputs": [],
   "source": [
    "def solve():\n",
    "    s = 0\n",
    "    for last_five_digits in [52867, 53901, 57289]:\n",
    "        for candidate in filter(is_candidate, get_remain_digits_permuations(last_five_digits)):\n",
    "            if is_substring_divisible(candidate + tuple(map(int, str(last_five_digits)))):\n",
    "                s += (combine_digits(candidate) * int(1e5) + last_five_digits)\n",
    "    return s"
   ]
  },
  {
   "cell_type": "code",
   "execution_count": 13,
   "metadata": {
    "collapsed": false
   },
   "outputs": [
    {
     "data": {
      "text/plain": [
       "16695334890"
      ]
     },
     "execution_count": 13,
     "metadata": {},
     "output_type": "execute_result"
    }
   ],
   "source": [
    "solve()"
   ]
  }
 ],
 "metadata": {
  "anaconda-cloud": {},
  "authors": [
   {
    "name": "Soros Liu"
   }
  ],
  "kernelspec": {
   "display_name": "Python [py3]",
   "language": "python",
   "name": "Python [py3]"
  },
  "language_info": {
   "codemirror_mode": {
    "name": "ipython",
    "version": 3
   },
   "file_extension": ".py",
   "mimetype": "text/x-python",
   "name": "python",
   "nbconvert_exporter": "python",
   "pygments_lexer": "ipython3",
   "version": "3.5.4"
  }
 },
 "nbformat": 4,
 "nbformat_minor": 2
}
