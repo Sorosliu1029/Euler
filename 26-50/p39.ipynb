{
 "cells": [
  {
   "cell_type": "markdown",
   "metadata": {},
   "source": [
    "# Integer right triangles"
   ]
  },
  {
   "cell_type": "markdown",
   "metadata": {},
   "source": [
    "<p>If <i>p</i> is the perimeter of a right angle triangle with integral length sides, {<i>a</i>,<i>b</i>,<i>c</i>}, there are exactly three solutions for <i>p</i> = 120.</p>\n",
    "<p>{20,48,52}, {24,45,51}, {30,40,50}</p>\n",
    "<p>For which value of <i>p</i> ≤ 1000, is the number of solutions maximised?</p>"
   ]
  },
  {
   "cell_type": "markdown",
   "metadata": {},
   "source": [
    "---"
   ]
  },
  {
   "cell_type": "markdown",
   "metadata": {},
   "source": [
    "### Idea"
   ]
  },
  {
   "cell_type": "markdown",
   "metadata": {},
   "source": [
    "Conditions: $ a+b+c=p $, $a^2+b^2=c^2 $. If we want any solution for a certain p, it means the line $ a+b+c=p $ and the circle $a^2+b^2=c^2 $ have intersection, which means $ c \\lt p-c \\lt \\sqrt{2}c $, => $ \\frac{p}{1+\\sqrt{2}} \\lt c \\lt \\frac{p}{2}$.\n",
    "\n",
    "$ \\begin{cases}\n",
    "  a+b+c=p \\\\\n",
    "  a^2+b^2=c^2\n",
    "\\end{cases} $ => $ 2ab = p^2 - 2pc $, which means p is even.  \n",
    "Also, it is safe to assume $ a \\lt b \\lt c $, and $ 0 \\lt \\frac{p(p-2c)}{2} (=ab) \\lt \\frac{\\sqrt{2}-1}{\\sqrt{2}+1} p^2 $, so $ a \\lt \\sqrt{\\frac{\\sqrt{2}-1}{\\sqrt{2}+1}} p $\n",
    "\n",
    "What leaves is just to search through all possible (a, b, c)."
   ]
  },
  {
   "cell_type": "markdown",
   "metadata": {},
   "source": [
    "---"
   ]
  },
  {
   "cell_type": "code",
   "execution_count": 1,
   "metadata": {},
   "outputs": [],
   "source": [
    "def get_c_bound(p):\n",
    "    return int(p / (1 + pow(2, 0.5)))+1, p // 2 + 1"
   ]
  },
  {
   "cell_type": "code",
   "execution_count": 2,
   "metadata": {},
   "outputs": [],
   "source": [
    "def get_a_upper_bound(p):\n",
    "    return int(pow((3 - 2 * pow(2, 0.5)) / 2, 0.5) * p)+1"
   ]
  },
  {
   "cell_type": "code",
   "execution_count": 3,
   "metadata": {},
   "outputs": [],
   "source": [
    "def solve():\n",
    "    max_solution = (-1, 0, None)\n",
    "    # minimun perimeter of a right angle triangle is 12\n",
    "    for p in range(12, 1001, 2):\n",
    "        solutions = []\n",
    "        for c in range(*get_c_bound(p)):\n",
    "            for a in range(1, get_a_upper_bound(p)):\n",
    "                b = (pow(p, 2) - 2 * p * c) / (2 * a)\n",
    "                if a < b < c and b == int(b) and sum((a, b, c)) == p:\n",
    "                    assert pow(a, 2) + pow(b, 2) == pow(c, 2)\n",
    "                    solutions.append((a, int(b), c))\n",
    "        max_solution = max(max_solution, (len(solutions), p, solutions))\n",
    "    return max_solution"
   ]
  },
  {
   "cell_type": "code",
   "execution_count": 4,
   "metadata": {},
   "outputs": [
    {
     "data": {
      "text/plain": [
       "(8,\n",
       " 840,\n",
       " [(240, 252, 348),\n",
       "  (210, 280, 350),\n",
       "  (168, 315, 357),\n",
       "  (140, 336, 364),\n",
       "  (120, 350, 370),\n",
       "  (105, 360, 375),\n",
       "  (56, 390, 394),\n",
       "  (40, 399, 401)])"
      ]
     },
     "execution_count": 4,
     "metadata": {},
     "output_type": "execute_result"
    }
   ],
   "source": [
    "solve()"
   ]
  }
 ],
 "metadata": {
  "authors": [
   {
    "name": "Soros Liu"
   }
  ],
  "kernelspec": {
   "display_name": "Python 3",
   "language": "python",
   "name": "python3"
  },
  "language_info": {
   "codemirror_mode": {
    "name": "ipython",
    "version": 3
   },
   "file_extension": ".py",
   "mimetype": "text/x-python",
   "name": "python",
   "nbconvert_exporter": "python",
   "pygments_lexer": "ipython3",
   "version": "3.6.1"
  }
 },
 "nbformat": 4,
 "nbformat_minor": 2
}
