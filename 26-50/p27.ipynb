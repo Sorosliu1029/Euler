{
 "cells": [
  {
   "cell_type": "markdown",
   "metadata": {},
   "source": [
    "# Quadratic primes"
   ]
  },
  {
   "cell_type": "markdown",
   "metadata": {},
   "source": [
    "Euler discovered the remarkable quadratic formula:\n",
    "\n",
    "$$ n^2+n+41 $$\n",
    "It turns out that the formula will produce 40 primes for the consecutive integer values $ 0 \\le n \\le 39 $. However, when n=40,$ 40^2+40+41=40 * (40+1)+41 $ is divisible by 41, and certainly when n=41, $ 41^2+41+41 $ is clearly divisible by 41.\n",
    "\n",
    "The incredible formula $ n^2−79n+1601 $ was discovered, which produces 80 primes for the consecutive values $ 0 \\le n \\le 79 $. The product of the coefficients, −79 and 1601, is −126479.\n",
    "\n",
    "Considering quadratics of the form:\n",
    "\n",
    "$ n^2+an+b $, where |a|<1000 and |b|≤1000\n",
    "\n",
    "where |n| is the modulus/absolute value of n\n",
    "e.g. |11|=11 and |−4|=4\n",
    "\n",
    "Find the product of the coefficients, a and b, for the quadratic expression that produces the maximum number of primes for consecutive values of n, starting with n=0."
   ]
  },
  {
   "cell_type": "markdown",
   "metadata": {},
   "source": [
    "---"
   ]
  },
  {
   "cell_type": "markdown",
   "metadata": {},
   "source": [
    "### Idea"
   ]
  },
  {
   "cell_type": "markdown",
   "metadata": {},
   "source": [
    "A problem of enumeration.\n",
    "\n",
    "Key to this problem is to reduce search space.\n",
    "\n",
    "Some observations:\n",
    "- when n = 0, then b must be prime, so $ 2 \\le b \\le 1000 $\n",
    "- when n = 1, then 1 + a + b must be prime, so $ 1-b \\le a \\lt 1000 $\n",
    "\n",
    "Some more constraints might be applied:\n",
    "- 1 + a + b be prime, and assume b != 2 and 1 + a + b != 2, we could constraint a to be odd, so could reduce search sapce by half"
   ]
  },
  {
   "cell_type": "markdown",
   "metadata": {},
   "source": [
    "---"
   ]
  },
  {
   "cell_type": "code",
   "execution_count": 1,
   "metadata": {},
   "outputs": [],
   "source": [
    "def is_prime(n):\n",
    "    if n < 0:\n",
    "        return False\n",
    "    d = 2\n",
    "    while pow(d, 2) <= n:\n",
    "        if n % d == 0:\n",
    "            return False\n",
    "        d += 1\n",
    "    return True"
   ]
  },
  {
   "cell_type": "code",
   "execution_count": 2,
   "metadata": {},
   "outputs": [
    {
     "data": {
      "text/plain": [
       "[(1, True),\n",
       " (2, True),\n",
       " (3, True),\n",
       " (4, False),\n",
       " (5, True),\n",
       " (6, False),\n",
       " (7, True),\n",
       " (8, False),\n",
       " (9, False),\n",
       " (10, False),\n",
       " (11, True),\n",
       " (12, False),\n",
       " (13, True),\n",
       " (14, False),\n",
       " (15, False),\n",
       " (16, False),\n",
       " (17, True),\n",
       " (18, False),\n",
       " (19, True),\n",
       " (20, False)]"
      ]
     },
     "execution_count": 2,
     "metadata": {},
     "output_type": "execute_result"
    }
   ],
   "source": [
    "[(i, is_prime(i)) for i in range(1, 21)]"
   ]
  },
  {
   "cell_type": "code",
   "execution_count": 3,
   "metadata": {},
   "outputs": [],
   "source": [
    "def get_expression(a, b):\n",
    "    return lambda n: pow(n, 2) + a * n + b"
   ]
  },
  {
   "cell_type": "code",
   "execution_count": 4,
   "metadata": {},
   "outputs": [],
   "source": [
    "def solve(a_abs_bound, b_abs_bound):\n",
    "    max_cnt = (-1, (0, 0, 0))\n",
    "    b_candidates = filter(is_prime, range(2, b_abs_bound+1))\n",
    "    for b in b_candidates:\n",
    "        for a in range(1-b, a_abs_bound):\n",
    "            e = get_expression(a, b)\n",
    "            cnt = 0\n",
    "            while is_prime(e(cnt)):\n",
    "                cnt += 1\n",
    "            max_cnt = max(max_cnt, (cnt, (a, b, a * b)))\n",
    "    return max_cnt"
   ]
  },
  {
   "cell_type": "code",
   "execution_count": 5,
   "metadata": {},
   "outputs": [
    {
     "data": {
      "text/plain": [
       "(71, (-61, 971, -59231))"
      ]
     },
     "execution_count": 5,
     "metadata": {},
     "output_type": "execute_result"
    }
   ],
   "source": [
    "solve(1000, 1000)"
   ]
  }
 ],
 "metadata": {
  "kernelspec": {
   "display_name": "Python 3",
   "language": "python",
   "name": "python3"
  },
  "language_info": {
   "codemirror_mode": {
    "name": "ipython",
    "version": 3
   },
   "file_extension": ".py",
   "mimetype": "text/x-python",
   "name": "python",
   "nbconvert_exporter": "python",
   "pygments_lexer": "ipython3",
   "version": "3.6.1"
  }
 },
 "nbformat": 4,
 "nbformat_minor": 2
}
