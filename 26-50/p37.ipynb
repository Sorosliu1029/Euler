{
 "cells": [
  {
   "cell_type": "markdown",
   "metadata": {},
   "source": [
    "# Truncatable primes"
   ]
  },
  {
   "cell_type": "markdown",
   "metadata": {},
   "source": [
    "<p>The number 3797 has an interesting property. Being prime itself, it is possible to continuously remove digits from left to right, and remain prime at each stage: 3797, 797, 97, and 7. Similarly we can work from right to left: 3797, 379, 37, and 3.</p>\n",
    "<p>Find the sum of the only eleven primes that are both truncatable from left to right and right to left.</p>\n",
    "<p class=\"info\">NOTE: 2, 3, 5, and 7 are not considered to be truncatable primes.</p>"
   ]
  },
  {
   "cell_type": "markdown",
   "metadata": {},
   "source": [
    "---"
   ]
  },
  {
   "cell_type": "markdown",
   "metadata": {},
   "source": [
    "### Idea"
   ]
  },
  {
   "cell_type": "markdown",
   "metadata": {},
   "source": [
    "We can generate candidate numbers by $ prime * 10 + t, t \\in [1, 3, 7, 9] $, since if we remove digits from right to left, it should remain prime.\n",
    "\n",
    "Then we can check these candidates if remain prime when remove digits from left to right."
   ]
  },
  {
   "cell_type": "markdown",
   "metadata": {},
   "source": [
    "---"
   ]
  },
  {
   "cell_type": "code",
   "execution_count": 1,
   "metadata": {},
   "outputs": [],
   "source": [
    "import math"
   ]
  },
  {
   "cell_type": "code",
   "execution_count": 2,
   "metadata": {},
   "outputs": [],
   "source": [
    "heads = [2, 3, 5, 7]\n",
    "tails = [1, 3, 7, 9]"
   ]
  },
  {
   "cell_type": "code",
   "execution_count": 3,
   "metadata": {},
   "outputs": [],
   "source": [
    "def is_prime(n):\n",
    "    if (n % 2 == 0 and n > 2) or n < 2: \n",
    "        return False\n",
    "    return all(n % i for i in range(3, int(math.sqrt(n)) + 1, 2))"
   ]
  },
  {
   "cell_type": "code",
   "execution_count": 4,
   "metadata": {},
   "outputs": [],
   "source": [
    "def is_prime_left2right(n):\n",
    "    return all(map(is_prime, (n % pow(10, p) for p in range(1, len(str(n))))))"
   ]
  },
  {
   "cell_type": "code",
   "execution_count": 5,
   "metadata": {},
   "outputs": [
    {
     "data": {
      "text/plain": [
       "True"
      ]
     },
     "execution_count": 5,
     "metadata": {},
     "output_type": "execute_result"
    }
   ],
   "source": [
    "is_prime_left2right(3797)"
   ]
  },
  {
   "cell_type": "code",
   "execution_count": 6,
   "metadata": {},
   "outputs": [],
   "source": [
    "def solve():\n",
    "    results = []\n",
    "    candidates = heads[:]\n",
    "    while len(results) < 11:\n",
    "        c = candidates.pop(0)\n",
    "        for t in tails:\n",
    "            new_n = c * 10 + t\n",
    "            if is_prime(new_n):\n",
    "                candidates.append(new_n)\n",
    "                if is_prime_left2right(new_n):\n",
    "                    results.append(new_n)\n",
    "\n",
    "    return sum(results), results"
   ]
  },
  {
   "cell_type": "code",
   "execution_count": 7,
   "metadata": {},
   "outputs": [
    {
     "data": {
      "text/plain": [
       "(748317, [23, 37, 53, 73, 313, 317, 373, 797, 3137, 3797, 739397])"
      ]
     },
     "execution_count": 7,
     "metadata": {},
     "output_type": "execute_result"
    }
   ],
   "source": [
    "solve()"
   ]
  }
 ],
 "metadata": {
  "authors": [
   {
    "name": "Soros Liu"
   }
  ],
  "kernelspec": {
   "display_name": "Python 3",
   "language": "python",
   "name": "python3"
  },
  "language_info": {
   "codemirror_mode": {
    "name": "ipython",
    "version": 3
   },
   "file_extension": ".py",
   "mimetype": "text/x-python",
   "name": "python",
   "nbconvert_exporter": "python",
   "pygments_lexer": "ipython3",
   "version": "3.6.1"
  }
 },
 "nbformat": 4,
 "nbformat_minor": 2
}
