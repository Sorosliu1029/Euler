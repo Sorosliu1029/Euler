{
 "cells": [
  {
   "cell_type": "markdown",
   "metadata": {},
   "source": [
    "# Circular primes"
   ]
  },
  {
   "cell_type": "markdown",
   "metadata": {},
   "source": [
    "<p>The number, 197, is called a circular prime because all rotations of the digits: 197, 971, and 719, are themselves prime.</p>\n",
    "<p>There are thirteen such primes below 100: 2, 3, 5, 7, 11, 13, 17, 31, 37, 71, 73, 79, and 97.</p>\n",
    "<p>How many circular primes are there below one million?</p>"
   ]
  },
  {
   "cell_type": "markdown",
   "metadata": {},
   "source": [
    "---"
   ]
  },
  {
   "cell_type": "markdown",
   "metadata": {},
   "source": [
    "### Idea"
   ]
  },
  {
   "cell_type": "markdown",
   "metadata": {},
   "source": [
    "The key to this problem is to reduce search space.\n",
    "\n",
    "- a number containing any even digit could not be circular prime\n",
    "- a number containing 5 could not be circular prime\n",
    "- a number which sum of all digits can be divided by 3 could not be circular prime\n",
    "\n",
    "Also, if a number is not circular prime, then all of its circular numbers could not be circular prime. This could avoid twice-calculation."
   ]
  },
  {
   "cell_type": "markdown",
   "metadata": {},
   "source": [
    "---"
   ]
  },
  {
   "cell_type": "code",
   "execution_count": 1,
   "metadata": {},
   "outputs": [],
   "source": [
    "import math"
   ]
  },
  {
   "cell_type": "code",
   "execution_count": 2,
   "metadata": {},
   "outputs": [],
   "source": [
    "def could_be_circular_prime(n):\n",
    "    digits = list(map(int, str(n)))\n",
    "    digit_number = len(digits)\n",
    "    if any(map(lambda d: d % 2 == 0, digits)):\n",
    "        return False\n",
    "    elif 5 in digits:\n",
    "        return False\n",
    "    elif sum(digits) % 3 == 0:\n",
    "        return False\n",
    "    return True"
   ]
  },
  {
   "cell_type": "code",
   "execution_count": 3,
   "metadata": {},
   "outputs": [],
   "source": [
    "def circular(n):\n",
    "    circulars = []\n",
    "    digit_number = len(str(n))\n",
    "    power = pow(10, digit_number-1)\n",
    "    for _ in range(digit_number):\n",
    "        circulars.append(n)\n",
    "        n = (n % 10) * power + n // 10\n",
    "    return set(circulars)"
   ]
  },
  {
   "cell_type": "code",
   "execution_count": 4,
   "metadata": {},
   "outputs": [],
   "source": [
    "def is_prime(n):\n",
    "    if (n % 2 == 0 and n > 2) or n < 2: \n",
    "        return False\n",
    "    return all(n % i for i in range(3, int(math.sqrt(n)) + 1, 2))"
   ]
  },
  {
   "cell_type": "code",
   "execution_count": 5,
   "metadata": {},
   "outputs": [],
   "source": [
    "def solve(bound):\n",
    "    circular_primes = set([2, 3, 5])\n",
    "    candidates = set(filter(could_be_circular_prime, range(2, int(bound))))\n",
    "    while candidates:\n",
    "        c = candidates.pop()\n",
    "        circulars = circular(c)\n",
    "        if all(map(is_prime, circulars)):\n",
    "            circular_primes |= circulars\n",
    "        candidates -= circulars\n",
    "\n",
    "    return len(circular_primes), circular_primes"
   ]
  },
  {
   "cell_type": "code",
   "execution_count": 6,
   "metadata": {},
   "outputs": [
    {
     "data": {
      "text/plain": [
       "(13, {2, 3, 5, 7, 11, 13, 17, 31, 37, 71, 73, 79, 97})"
      ]
     },
     "execution_count": 6,
     "metadata": {},
     "output_type": "execute_result"
    }
   ],
   "source": [
    "solve(100)"
   ]
  },
  {
   "cell_type": "code",
   "execution_count": 7,
   "metadata": {},
   "outputs": [
    {
     "data": {
      "text/plain": [
       "(55,\n",
       " {2,\n",
       "  3,\n",
       "  5,\n",
       "  7,\n",
       "  11,\n",
       "  13,\n",
       "  17,\n",
       "  31,\n",
       "  37,\n",
       "  71,\n",
       "  73,\n",
       "  79,\n",
       "  97,\n",
       "  113,\n",
       "  131,\n",
       "  197,\n",
       "  199,\n",
       "  311,\n",
       "  337,\n",
       "  373,\n",
       "  719,\n",
       "  733,\n",
       "  919,\n",
       "  971,\n",
       "  991,\n",
       "  1193,\n",
       "  1931,\n",
       "  3119,\n",
       "  3779,\n",
       "  7793,\n",
       "  7937,\n",
       "  9311,\n",
       "  9377,\n",
       "  11939,\n",
       "  19391,\n",
       "  19937,\n",
       "  37199,\n",
       "  39119,\n",
       "  71993,\n",
       "  91193,\n",
       "  93719,\n",
       "  93911,\n",
       "  99371,\n",
       "  193939,\n",
       "  199933,\n",
       "  319993,\n",
       "  331999,\n",
       "  391939,\n",
       "  393919,\n",
       "  919393,\n",
       "  933199,\n",
       "  939193,\n",
       "  939391,\n",
       "  993319,\n",
       "  999331})"
      ]
     },
     "execution_count": 7,
     "metadata": {},
     "output_type": "execute_result"
    }
   ],
   "source": [
    "solve(1e6)"
   ]
  }
 ],
 "metadata": {
  "authors": [
   {
    "name": "Soros Liu"
   }
  ],
  "kernelspec": {
   "display_name": "Python 3",
   "language": "python",
   "name": "python3"
  },
  "language_info": {
   "codemirror_mode": {
    "name": "ipython",
    "version": 3
   },
   "file_extension": ".py",
   "mimetype": "text/x-python",
   "name": "python",
   "nbconvert_exporter": "python",
   "pygments_lexer": "ipython3",
   "version": "3.6.1"
  }
 },
 "nbformat": 4,
 "nbformat_minor": 2
}
