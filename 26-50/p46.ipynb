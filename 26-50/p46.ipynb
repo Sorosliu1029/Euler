{
 "cells": [
  {
   "cell_type": "markdown",
   "metadata": {},
   "source": [
    "# Goldbach's other conjecture"
   ]
  },
  {
   "cell_type": "markdown",
   "metadata": {},
   "source": [
    "<p>It was proposed by Christian Goldbach that every odd composite number can be written as the sum of a prime and twice a square.</p>\n",
    "<p style=\"margin-left:10px;\">9 = 7 + 2×1<sup>2</sup><br />\n",
    "15 = 7 + 2×2<sup>2</sup><br />\n",
    "21 = 3 + 2×3<sup>2</sup><br />\n",
    "25 = 7 + 2×3<sup>2</sup><br />\n",
    "27 = 19 + 2×2<sup>2</sup><br />\n",
    "33 = 31 + 2×1<sup>2</sup></p>\n",
    "<p>It turns out that the conjecture was false.</p>\n",
    "<p>What is the smallest odd composite that cannot be written as the sum of a prime and twice a square?</p>"
   ]
  },
  {
   "cell_type": "markdown",
   "metadata": {},
   "source": [
    "---"
   ]
  },
  {
   "cell_type": "markdown",
   "metadata": {},
   "source": [
    "### Idea"
   ]
  },
  {
   "cell_type": "markdown",
   "metadata": {},
   "source": [
    "Naive solution.\n",
    "\n",
    "Iterate through all odd numbers, split them into odd primes and odd composites.\n",
    "\n",
    "For each odd composite, check if it can be wirtten as the format: $ odd = prime + 2 \\times i^2, i \\ is \\ positive \\ integer $. Notice, we do not need to check $prime = 2$"
   ]
  },
  {
   "cell_type": "markdown",
   "metadata": {},
   "source": [
    "---"
   ]
  },
  {
   "cell_type": "code",
   "execution_count": 1,
   "metadata": {
    "collapsed": true
   },
   "outputs": [],
   "source": [
    "from math import sqrt"
   ]
  },
  {
   "cell_type": "code",
   "execution_count": 2,
   "metadata": {
    "collapsed": true
   },
   "outputs": [],
   "source": [
    "def is_prime(n):\n",
    "    return all((n % d for d in range(3, int(sqrt(n))+1, 2)))"
   ]
  },
  {
   "cell_type": "code",
   "execution_count": 3,
   "metadata": {
    "collapsed": false
   },
   "outputs": [
    {
     "data": {
      "text/plain": [
       "True"
      ]
     },
     "execution_count": 3,
     "metadata": {},
     "output_type": "execute_result"
    }
   ],
   "source": [
    "is_prime(3)"
   ]
  },
  {
   "cell_type": "code",
   "execution_count": 4,
   "metadata": {
    "collapsed": false
   },
   "outputs": [
    {
     "data": {
      "text/plain": [
       "False"
      ]
     },
     "execution_count": 4,
     "metadata": {},
     "output_type": "execute_result"
    }
   ],
   "source": [
    "is_prime(9)"
   ]
  },
  {
   "cell_type": "code",
   "execution_count": 5,
   "metadata": {
    "collapsed": true
   },
   "outputs": [],
   "source": [
    "def solve():\n",
    "    odd_primes = set()\n",
    "    odd_composites = set()\n",
    "    odd = 3\n",
    "    while True:\n",
    "        if is_prime(odd):\n",
    "            odd_primes.add(odd)\n",
    "        else:\n",
    "            odd_composites.add(odd)\n",
    "            \n",
    "            square_i = range(1, int(sqrt(odd / 2))+1)\n",
    "            squares = map(lambda i: pow(i, 2), square_i)\n",
    "            remains = map(lambda sq: odd - 2*sq, squares)\n",
    "            if all(map(lambda remain: remain not in odd_primes, remains)):\n",
    "                return odd\n",
    "        odd += 2"
   ]
  },
  {
   "cell_type": "code",
   "execution_count": 6,
   "metadata": {
    "collapsed": false
   },
   "outputs": [
    {
     "data": {
      "text/plain": [
       "5777"
      ]
     },
     "execution_count": 6,
     "metadata": {},
     "output_type": "execute_result"
    }
   ],
   "source": [
    "solve()"
   ]
  }
 ],
 "metadata": {
  "anaconda-cloud": {},
  "authors": [
   {
    "name": "Soros Liu"
   }
  ],
  "kernelspec": {
   "display_name": "Python [py3]",
   "language": "python",
   "name": "Python [py3]"
  },
  "language_info": {
   "codemirror_mode": {
    "name": "ipython",
    "version": 3
   },
   "file_extension": ".py",
   "mimetype": "text/x-python",
   "name": "python",
   "nbconvert_exporter": "python",
   "pygments_lexer": "ipython3",
   "version": "3.5.4"
  }
 },
 "nbformat": 4,
 "nbformat_minor": 2
}
