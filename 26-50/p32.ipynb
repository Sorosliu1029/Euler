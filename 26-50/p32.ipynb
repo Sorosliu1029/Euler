{
 "cells": [
  {
   "cell_type": "markdown",
   "metadata": {},
   "source": [
    "# Pandigital products"
   ]
  },
  {
   "cell_type": "markdown",
   "metadata": {},
   "source": [
    "<p>We shall say that an <var>n</var>-digit number is pandigital if it makes use of all the digits 1 to <var>n</var> exactly once; for example, the 5-digit number, 15234, is 1 through 5 pandigital.</p>\n",
    "\n",
    "<p>The product 7254 is unusual, as the identity, 39 × 186 = 7254, containing multiplicand, multiplier, and product is 1 through 9 pandigital.</p>\n",
    "\n",
    "<p>Find the sum of all products whose multiplicand/multiplier/product identity can be written as a 1 through 9 pandigital.</p>\n",
    "\n",
    "<div class=\"note\">HINT: Some products can be obtained in more than one way so be sure to only include it once in your sum.</div>"
   ]
  },
  {
   "cell_type": "markdown",
   "metadata": {},
   "source": [
    "---"
   ]
  },
  {
   "cell_type": "markdown",
   "metadata": {},
   "source": [
    "### Idea"
   ]
  },
  {
   "cell_type": "markdown",
   "metadata": {},
   "source": [
    "Assume first multiplier takes $ i $ digits, second multiplier takes $ j $ digits, then product takes $ 9-i-j $ digits.\n",
    "\n",
    "The minimum product is $ 10^{i+j-2} $, and maximum product is $ 10^{i+j} $, so we get $ i+j-2 \\le 9-(i+j) \\le i+j $, so $ i+j = 5 $.\n",
    "\n",
    "Get all permutations of digits 1 through 9, and check if could get pandigital product."
   ]
  },
  {
   "cell_type": "markdown",
   "metadata": {},
   "source": [
    "---"
   ]
  },
  {
   "cell_type": "code",
   "execution_count": 1,
   "metadata": {},
   "outputs": [],
   "source": [
    "from itertools import permutations"
   ]
  },
  {
   "cell_type": "code",
   "execution_count": 2,
   "metadata": {},
   "outputs": [],
   "source": [
    "def get_number(p, slc):\n",
    "    return int(''.join(map(str, p[slc])))"
   ]
  },
  {
   "cell_type": "code",
   "execution_count": 3,
   "metadata": {},
   "outputs": [
    {
     "data": {
      "text/plain": [
       "12"
      ]
     },
     "execution_count": 3,
     "metadata": {},
     "output_type": "execute_result"
    }
   ],
   "source": [
    "get_number(range(1, 10), slice(0, 2))"
   ]
  },
  {
   "cell_type": "code",
   "execution_count": 4,
   "metadata": {},
   "outputs": [
    {
     "data": {
      "text/plain": [
       "6789"
      ]
     },
     "execution_count": 4,
     "metadata": {},
     "output_type": "execute_result"
    }
   ],
   "source": [
    "get_number(range(1, 10), slice(5, 9))"
   ]
  },
  {
   "cell_type": "code",
   "execution_count": 5,
   "metadata": {},
   "outputs": [],
   "source": [
    "def solve():\n",
    "    s = 0\n",
    "    pandigital_products = []\n",
    "    for p in permutations(range(1, 10), 9):\n",
    "        for i in [1, 2]:\n",
    "            if get_number(p, slice(5, 9)) not in pandigital_products and \\\n",
    "            get_number(p, slice(0, i)) * get_number(p, slice(i, 5)) == get_number(p, slice(5, 9)):\n",
    "                pandigital_products.append(get_number(p, slice(5, 9)))\n",
    "                s += get_number(p, slice(5, 9))\n",
    "    return s, pandigital_products"
   ]
  },
  {
   "cell_type": "code",
   "execution_count": 6,
   "metadata": {},
   "outputs": [
    {
     "data": {
      "text/plain": [
       "(45228, [5796, 5346, 4396, 7254, 6952, 7852, 7632])"
      ]
     },
     "execution_count": 6,
     "metadata": {},
     "output_type": "execute_result"
    }
   ],
   "source": [
    "solve()"
   ]
  }
 ],
 "metadata": {
  "kernelspec": {
   "display_name": "Python 3",
   "language": "python",
   "name": "python3"
  },
  "language_info": {
   "codemirror_mode": {
    "name": "ipython",
    "version": 3
   },
   "file_extension": ".py",
   "mimetype": "text/x-python",
   "name": "python",
   "nbconvert_exporter": "python",
   "pygments_lexer": "ipython3",
   "version": "3.6.1"
  }
 },
 "nbformat": 4,
 "nbformat_minor": 2
}
