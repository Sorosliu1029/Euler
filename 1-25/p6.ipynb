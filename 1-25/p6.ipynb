{
 "cells": [
  {
   "cell_type": "markdown",
   "metadata": {},
   "source": [
    "# Sum square difference"
   ]
  },
  {
   "cell_type": "markdown",
   "metadata": {},
   "source": [
    "The sum of the squares of the first ten natural numbers is,\n",
    "$$1^2 + 2^2 + ... + 10^2 = 385$$\n",
    "The square of the sum of the first ten natural numbers is,\n",
    "$$(1 + 2 + ... + 10)^2 = 55^2 = 3025$$\n",
    "Hence the difference between the sum of the squares of the first ten natural numbers and the square of the sum is 3025 − 385 = 2640.\n",
    "\n",
    "Find the difference between the sum of the squares of the first one hundred natural numbers and the square of the sum."
   ]
  },
  {
   "cell_type": "markdown",
   "metadata": {},
   "source": [
    "---"
   ]
  },
  {
   "cell_type": "markdown",
   "metadata": {},
   "source": [
    "### Idea"
   ]
  },
  {
   "cell_type": "markdown",
   "metadata": {},
   "source": [
    "$$result = (\\sum_{i=1}^m i)^2 - \\sum_{i=1}^m i^2$$\n",
    "\n",
    "It is a problem of 'multinomial theorem'.  \n",
    "Refer to [Wikipedia: Multinomial_theorem](https://en.wikipedia.org/wiki/Multinomial_theorem)\n",
    "\n",
    "$$(x_1 + x_2 + ... + x_t)^n = \\sum \\frac{n!}{n_1!n_2!...n_t!} x_1^{n_1} x_2^{n_2}...x_t^{n_t}$$  \n",
    "and $$n_1 + n_2 + ... + n_t = n, 0 \\le n_i \\le n$$\n",
    "\n",
    "Here, n = 2, so above equation become:  \n",
    "$$(\\sum_{i=1}^m i)^2 = (1 + 2 + ... + m)^2 = \\sum \\frac{2!}{n_1!n_2!...n_m!} 1^{n_1}2^{n_2}...m^{n_m} $$  \n",
    "and $$n_1 + n_2 + ... + n_m = 2, 0 \\le n_i \\le n$$\n",
    "\n",
    "So,  $$if \\; n_i = 2, then \\; n_j = 0, 1 \\le j \\le t, j \\ne i$$  \n",
    "So,  $$result = (\\sum_{i=1}^m i)^2 - \\sum_{i=1}^m i^2 = \\sum \\frac{2!}{n_j!n_k!} j*k = \\sum \\frac{2}{1!1!} j*k = 2 \\sum j*k$$  \n",
    "and here (j, k) is combination of [1 to m]"
   ]
  },
  {
   "cell_type": "markdown",
   "metadata": {},
   "source": [
    "---"
   ]
  },
  {
   "cell_type": "code",
   "execution_count": 1,
   "metadata": {
    "collapsed": true
   },
   "outputs": [],
   "source": [
    "from itertools import combinations"
   ]
  },
  {
   "cell_type": "code",
   "execution_count": 2,
   "metadata": {
    "collapsed": true
   },
   "outputs": [],
   "source": [
    "def solve(end):\n",
    "    return 2 * sum((j * k for j, k in combinations(range(1, end+1), 2)))"
   ]
  },
  {
   "cell_type": "code",
   "execution_count": 3,
   "metadata": {
    "collapsed": false
   },
   "outputs": [
    {
     "data": {
      "text/plain": [
       "2640"
      ]
     },
     "execution_count": 3,
     "metadata": {},
     "output_type": "execute_result"
    }
   ],
   "source": [
    "solve(10)"
   ]
  },
  {
   "cell_type": "code",
   "execution_count": 4,
   "metadata": {
    "collapsed": false
   },
   "outputs": [
    {
     "data": {
      "text/plain": [
       "25164150"
      ]
     },
     "execution_count": 4,
     "metadata": {},
     "output_type": "execute_result"
    }
   ],
   "source": [
    "solve(100)"
   ]
  }
 ],
 "metadata": {
  "anaconda-cloud": {},
  "kernelspec": {
   "display_name": "Python [py3]",
   "language": "python",
   "name": "Python [py3]"
  },
  "language_info": {
   "codemirror_mode": {
    "name": "ipython",
    "version": 3
   },
   "file_extension": ".py",
   "mimetype": "text/x-python",
   "name": "python",
   "nbconvert_exporter": "python",
   "pygments_lexer": "ipython3",
   "version": "3.5.4"
  }
 },
 "nbformat": 4,
 "nbformat_minor": 0
}
