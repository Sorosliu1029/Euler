{
 "cells": [
  {
   "cell_type": "markdown",
   "metadata": {},
   "source": [
    "# Number letter counts"
   ]
  },
  {
   "cell_type": "markdown",
   "metadata": {},
   "source": [
    "If the numbers 1 to 5 are written out in words: one, two, three, four, five, then there are 3 + 3 + 5 + 4 + 4 = 19 letters used in total.\n",
    "\n",
    "If all the numbers from 1 to 1000 (one thousand) inclusive were written out in words, how many letters would be used?\n",
    "\n",
    "\n",
    "NOTE: Do not count spaces or hyphens. For example, 342 (three hundred and forty-two) contains 23 letters and 115 (one hundred and fifteen) contains 20 letters. The use of \"and\" when writing out numbers is in compliance with British usage."
   ]
  },
  {
   "cell_type": "markdown",
   "metadata": {},
   "source": [
    "---"
   ]
  },
  {
   "cell_type": "markdown",
   "metadata": {},
   "source": [
    "### Idea"
   ]
  },
  {
   "cell_type": "markdown",
   "metadata": {},
   "source": [
    "Iterate and calculate as instructed."
   ]
  },
  {
   "cell_type": "markdown",
   "metadata": {},
   "source": [
    "---"
   ]
  },
  {
   "cell_type": "code",
   "execution_count": 1,
   "metadata": {
    "collapsed": false
   },
   "outputs": [],
   "source": [
    "def solve(bound):\n",
    "    one_digit = ['', 'one', 'two', 'three', 'four', 'five', 'six', 'seven', 'eight', 'nine']\n",
    "    _t = ['thir', 'four', 'fif', 'six', 'seven', 'eigh', 'nine']\n",
    "    teens = ['ten', 'eleven', 'twelve'] + [t+'teen' for t in _t]\n",
    "    ties = ['twenty'] + [t+'ty' for t in _t]\n",
    "    # 40 is 'forty'\n",
    "    ties[2] = 'forty'\n",
    "\n",
    "    def one_digit_letters(n):\n",
    "        return one_digit[n]\n",
    "    \n",
    "    def two_digits_letters(n):\n",
    "        if n < 10:\n",
    "            return one_digit_letters(n)\n",
    "        elif n < 20:\n",
    "            return teens[n % 10]\n",
    "        else:\n",
    "            return ties[(n // 10) - 2] + (one_digit_letters(n % 10))\n",
    "        \n",
    "    def three_digits_letters(n):\n",
    "        return one_digit_letters(n // 100) + 'hundred' + ('and' + two_digits_letters(n % 100) if n % 100 else '')\n",
    "    \n",
    "    cnt = 0\n",
    "    for i in range(1, bound+1):\n",
    "        if len(str(i)) == 1:\n",
    "            cnt += len(one_digit_letters(i))\n",
    "        elif len(str(i)) == 2:\n",
    "            cnt += len(two_digits_letters(i))\n",
    "        elif len(str(i)) == 3:\n",
    "            cnt += len(three_digits_letters(i))\n",
    "        elif len(str(i)) == 4:\n",
    "            cnt += len('onethousand')\n",
    "    return cnt"
   ]
  },
  {
   "cell_type": "code",
   "execution_count": 2,
   "metadata": {
    "collapsed": false
   },
   "outputs": [
    {
     "data": {
      "text/plain": [
       "19"
      ]
     },
     "execution_count": 2,
     "metadata": {},
     "output_type": "execute_result"
    }
   ],
   "source": [
    "solve(5)"
   ]
  },
  {
   "cell_type": "code",
   "execution_count": 3,
   "metadata": {
    "collapsed": false
   },
   "outputs": [
    {
     "data": {
      "text/plain": [
       "21124"
      ]
     },
     "execution_count": 3,
     "metadata": {},
     "output_type": "execute_result"
    }
   ],
   "source": [
    "solve(1000)"
   ]
  }
 ],
 "metadata": {
  "kernelspec": {
   "display_name": "Python [py3]",
   "language": "python",
   "name": "Python [py3]"
  },
  "language_info": {
   "codemirror_mode": {
    "name": "ipython",
    "version": 3
   },
   "file_extension": ".py",
   "mimetype": "text/x-python",
   "name": "python",
   "nbconvert_exporter": "python",
   "pygments_lexer": "ipython3",
   "version": "3.5.4"
  }
 },
 "nbformat": 4,
 "nbformat_minor": 0
}
