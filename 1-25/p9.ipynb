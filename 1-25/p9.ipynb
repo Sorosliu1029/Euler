{
 "cells": [
  {
   "cell_type": "markdown",
   "metadata": {},
   "source": [
    "# Special Pythagorean triplet"
   ]
  },
  {
   "cell_type": "markdown",
   "metadata": {},
   "source": [
    "A Pythagorean triplet is a set of three natural numbers, a < b < c, for which,\n",
    "\n",
    "$$a^2 + b^2 = c^2$$\n",
    "For example, 32 + 42 = 9 + 16 = 25 = 52.\n",
    "\n",
    "There exists exactly one Pythagorean triplet for which a + b + c = 1000.\n",
    "Find the product $$abc$$."
   ]
  },
  {
   "cell_type": "markdown",
   "metadata": {},
   "source": [
    "---"
   ]
  },
  {
   "cell_type": "markdown",
   "metadata": {},
   "source": [
    "### Idea"
   ]
  },
  {
   "cell_type": "markdown",
   "metadata": {},
   "source": [
    "A problem of 'Linear indeterminate equation', a.k.a. 'Diophantine equation'.\n",
    "\n",
    "Refer to [Diophantine equation](https://en.wikipedia.org/wiki/Diophantine_equation)\n",
    "\n",
    "We have equation:\n",
    "\n",
    "- a, b, c are natural numbers\n",
    "- $$ a < b < c$$\n",
    "- $$ a^2 + b^2 = c^2$$\n",
    "- $$ a + b + c = 1000$$"
   ]
  },
  {
   "cell_type": "markdown",
   "metadata": {},
   "source": [
    "---"
   ]
  },
  {
   "cell_type": "code",
   "execution_count": 1,
   "metadata": {
    "collapsed": true
   },
   "outputs": [],
   "source": [
    "from math import ceil"
   ]
  },
  {
   "cell_type": "code",
   "execution_count": 2,
   "metadata": {
    "collapsed": false
   },
   "outputs": [],
   "source": [
    "def solve(sum_of_three):\n",
    "    \n",
    "    # solve determinate equation for `b` and `c`\n",
    "    def solve_b_c(a):\n",
    "        _1, _2 = sum_of_three - a, pow(a, 2) // (sum_of_three - a)\n",
    "        return (_1 - _2) // 2, (_1 + _2) // 2\n",
    "    \n",
    "    a_upper_bound = ceil(sum_of_three / 3)\n",
    "    for a in range(1, a_upper_bound):\n",
    "        b, c = solve_b_c(a)\n",
    "        if pow(a, 2) + pow(b, 2) == pow(c, 2):\n",
    "            return (a, b, c), a * b * c"
   ]
  },
  {
   "cell_type": "code",
   "execution_count": 3,
   "metadata": {
    "collapsed": false
   },
   "outputs": [
    {
     "data": {
      "text/plain": [
       "((3, 4, 5), 60)"
      ]
     },
     "execution_count": 3,
     "metadata": {},
     "output_type": "execute_result"
    }
   ],
   "source": [
    "solve(12)"
   ]
  },
  {
   "cell_type": "code",
   "execution_count": 4,
   "metadata": {
    "collapsed": false
   },
   "outputs": [
    {
     "data": {
      "text/plain": [
       "((200, 375, 425), 31875000)"
      ]
     },
     "execution_count": 4,
     "metadata": {},
     "output_type": "execute_result"
    }
   ],
   "source": [
    "solve(1000)"
   ]
  }
 ],
 "metadata": {
  "anaconda-cloud": {},
  "kernelspec": {
   "display_name": "Python [py3]",
   "language": "python",
   "name": "Python [py3]"
  },
  "language_info": {
   "codemirror_mode": {
    "name": "ipython",
    "version": 3
   },
   "file_extension": ".py",
   "mimetype": "text/x-python",
   "name": "python",
   "nbconvert_exporter": "python",
   "pygments_lexer": "ipython3",
   "version": "3.5.4"
  }
 },
 "nbformat": 4,
 "nbformat_minor": 0
}
