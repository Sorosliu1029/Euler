{
 "cells": [
  {
   "cell_type": "markdown",
   "metadata": {},
   "source": [
    "# Largest product in a series"
   ]
  },
  {
   "cell_type": "markdown",
   "metadata": {},
   "source": [
    "The four adjacent digits in the 1000-digit number that have the greatest product are 9 × 9 × 8 × 9 = 5832.\n",
    "\n",
    "73167176531330624919225119674426574742355349194934  \n",
    "96983520312774506326239578318016984801869478851843  \n",
    "85861560789112949495459501737958331952853208805511  \n",
    "12540698747158523863050715693290963295227443043557  \n",
    "66896648950445244523161731856403098711121722383113  \n",
    "62229893423380308135336276614282806444486645238749  \n",
    "30358907296290491560440772390713810515859307960866  \n",
    "70172427121883998797908792274921901699720888093776  \n",
    "65727333001053367881220235421809751254540594752243  \n",
    "52584907711670556013604839586446706324415722155397  \n",
    "53697817977846174064955149290862569321978468622482  \n",
    "83972241375657056057490261407972968652414535100474  \n",
    "82166370484403199890008895243450658541227588666881  \n",
    "16427171479924442928230863465674813919123162824586  \n",
    "17866458359124566529476545682848912883142607690042  \n",
    "24219022671055626321111109370544217506941658960408  \n",
    "07198403850962455444362981230987879927244284909188  \n",
    "84580156166097919133875499200524063689912560717606  \n",
    "05886116467109405077541002256983155200055935729725  \n",
    "71636269561882670428252483600823257530420752963450  \n",
    "\n",
    "Find the thirteen adjacent digits in the 1000-digit number that have the greatest product. What is the value of this product?"
   ]
  },
  {
   "cell_type": "markdown",
   "metadata": {},
   "source": [
    "---"
   ]
  },
  {
   "cell_type": "markdown",
   "metadata": {},
   "source": [
    "### Idea"
   ]
  },
  {
   "cell_type": "markdown",
   "metadata": {},
   "source": [
    "This problem can be treated as 'slide window' model.\n",
    "\n",
    "From the beginning, slide the fixed-width window by one digit each time, compare the slided-in digit to the slided-out digit:  \n",
    "- if in > out: this slide window is currently largest\n",
    "- else: we accumulate slided-in digits and get their product, so as slided-out digits\n",
    "- we can repeat above steps as long as `currently largest window` has intersection with `new slide window`\n",
    "- Otherwise, it is a new *smaller* problem, so can solve it recursively"
   ]
  },
  {
   "cell_type": "markdown",
   "metadata": {},
   "source": [
    "---"
   ]
  },
  {
   "cell_type": "code",
   "execution_count": 1,
   "metadata": {
    "collapsed": true
   },
   "outputs": [],
   "source": [
    "from functools import reduce"
   ]
  },
  {
   "cell_type": "code",
   "execution_count": 2,
   "metadata": {
    "collapsed": true
   },
   "outputs": [],
   "source": [
    "series = \"\"\"\n",
    "73167176531330624919225119674426574742355349194934\n",
    "96983520312774506326239578318016984801869478851843\n",
    "85861560789112949495459501737958331952853208805511\n",
    "12540698747158523863050715693290963295227443043557\n",
    "66896648950445244523161731856403098711121722383113\n",
    "62229893423380308135336276614282806444486645238749\n",
    "30358907296290491560440772390713810515859307960866\n",
    "70172427121883998797908792274921901699720888093776\n",
    "65727333001053367881220235421809751254540594752243\n",
    "52584907711670556013604839586446706324415722155397\n",
    "53697817977846174064955149290862569321978468622482\n",
    "83972241375657056057490261407972968652414535100474\n",
    "82166370484403199890008895243450658541227588666881\n",
    "16427171479924442928230863465674813919123162824586\n",
    "17866458359124566529476545682848912883142607690042\n",
    "24219022671055626321111109370544217506941658960408\n",
    "07198403850962455444362981230987879927244284909188\n",
    "84580156166097919133875499200524063689912560717606\n",
    "05886116467109405077541002256983155200055935729725\n",
    "71636269561882670428252483600823257530420752963450\n",
    "\"\"\"\n",
    "series = series.replace(\"\\n\", \"\")"
   ]
  },
  {
   "cell_type": "code",
   "execution_count": 3,
   "metadata": {
    "collapsed": true
   },
   "outputs": [],
   "source": [
    "def solve(series, width):\n",
    "    \n",
    "    # get product of `width` adjacent digits\n",
    "    def product(series, start_index):\n",
    "        assert start_index + width <= len(series)\n",
    "        return reduce(lambda a, b: int(a) * int(b), series[start_index: start_index+width], 1)\n",
    "    \n",
    "    # get largest product in a series\n",
    "    def get_largest(series):\n",
    "        current_max = (product(series, 0), -1)\n",
    "        \n",
    "        out_window_product, in_window_product = 1, 1\n",
    "        # slide window\n",
    "        for window_index in range(len(series)-width):\n",
    "            # new slide window has intersection with current max window\n",
    "            if current_max[1] < window_index < current_max[1] + width:\n",
    "                out_window_product *= int(series[window_index])\n",
    "                in_window_product *= int(series[window_index+width])\n",
    "                # the income digits of the new slide window has bigger product than outcome digits\n",
    "                if out_window_product < in_window_product:\n",
    "                    # replace with bigger product window\n",
    "                    current_max = (current_max[0] // out_window_product * in_window_product, window_index)\n",
    "                    out_window_product, in_window_product = 1, 1\n",
    "            # new slide window is completely independent\n",
    "            else:\n",
    "                return max(current_max[0], get_largest(series[window_index+1:]))\n",
    "        return current_max[0]\n",
    "    \n",
    "    # `0` makes no sense, so remove it and get split series that can contain `width` digits\n",
    "    split_series = filter(lambda s: len(s) >= width, series.split('0'))\n",
    "    return max(map(get_largest, split_series))"
   ]
  },
  {
   "cell_type": "code",
   "execution_count": 4,
   "metadata": {
    "collapsed": false
   },
   "outputs": [
    {
     "data": {
      "text/plain": [
       "63"
      ]
     },
     "execution_count": 4,
     "metadata": {},
     "output_type": "execute_result"
    }
   ],
   "source": [
    "solve(\"1234579678\", 2)"
   ]
  },
  {
   "cell_type": "code",
   "execution_count": 5,
   "metadata": {
    "collapsed": false
   },
   "outputs": [
    {
     "data": {
      "text/plain": [
       "5832"
      ]
     },
     "execution_count": 5,
     "metadata": {},
     "output_type": "execute_result"
    }
   ],
   "source": [
    "solve(series, 4)"
   ]
  },
  {
   "cell_type": "code",
   "execution_count": 6,
   "metadata": {
    "collapsed": false
   },
   "outputs": [
    {
     "data": {
      "text/plain": [
       "23514624000"
      ]
     },
     "execution_count": 6,
     "metadata": {},
     "output_type": "execute_result"
    }
   ],
   "source": [
    "solve(series, 13)"
   ]
  }
 ],
 "metadata": {
  "anaconda-cloud": {},
  "kernelspec": {
   "display_name": "Python [py3]",
   "language": "python",
   "name": "Python [py3]"
  },
  "language_info": {
   "codemirror_mode": {
    "name": "ipython",
    "version": 3
   },
   "file_extension": ".py",
   "mimetype": "text/x-python",
   "name": "python",
   "nbconvert_exporter": "python",
   "pygments_lexer": "ipython3",
   "version": "3.5.4"
  }
 },
 "nbformat": 4,
 "nbformat_minor": 0
}
