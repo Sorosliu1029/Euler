{
 "cells": [
  {
   "cell_type": "markdown",
   "metadata": {},
   "source": [
    "# Smallest multiple"
   ]
  },
  {
   "cell_type": "markdown",
   "metadata": {},
   "source": [
    "2520 is the smallest number that can be divided by each of the numbers from 1 to 10 without any remainder.\n",
    "\n",
    "What is the smallest positive number that is evenly divisible by all of the numbers from 1 to 20?"
   ]
  },
  {
   "cell_type": "markdown",
   "metadata": {},
   "source": [
    "---"
   ]
  },
  {
   "cell_type": "markdown",
   "metadata": {},
   "source": [
    "### Idea"
   ]
  },
  {
   "cell_type": "markdown",
   "metadata": {},
   "source": [
    "A problem of 'prime factor decomposition'.\n",
    "For example, 2520 is produced in such way:\n",
    "\n",
    "from 2 to 10, initial list `p` is `[]`\n",
    "- 2 is prime, add 2 to `p`, `p` is `[2]` now\n",
    "- 3 is prime, add 3 to `p`, `p` is `[2, 3]` now\n",
    "- 4 is not prime, its prime factors are `2 * 2`, one `2` in `p`, another needed, so add another `2` to `p`, `p` is `[2, 3, 2]` now\n",
    "- 5 is prime, add 5 to `p`, `p` is `[2, 3, 2, 5]` now\n",
    "- 6 is not prime, its prime factors are `2 * 3`, both `2` and `3` are in `p` now, nothing need to do\n",
    "- 7 is prime, add 7 to `p`, `p` is `[2, 3, 2, 5, 7]` now\n",
    "- 8 is not prime, its prime factors are `2 * 2 * 2`, two `2` in `p`, another needed, so add another `2` to `p`, `p` is `[2, 3, 2, 5, 7]` now\n",
    "- 9 is not prime, its prime factors are `3 * 3`, one `3` in `p`, another needed, so add another `3` to `p`, `p` is `[2, 3, 2, 5, 7, 3]` now\n",
    "- 10 is not prime, its prime factors are `2 * 5`, one `2` in `p` and one `5` in `p`, nothing need to do\n",
    "\n",
    "so $$\\prod p = 2520$$\n",
    "\n",
    "Iterate from 2 to 20, gather all prime factors, add if any missing, then its product is result"
   ]
  },
  {
   "cell_type": "markdown",
   "metadata": {},
   "source": [
    "---"
   ]
  },
  {
   "cell_type": "code",
   "execution_count": 1,
   "metadata": {},
   "outputs": [],
   "source": [
    "from collections import Counter\n",
    "from functools import reduce"
   ]
  },
  {
   "cell_type": "code",
   "execution_count": 2,
   "metadata": {},
   "outputs": [],
   "source": [
    "def get_prime_factors(number):\n",
    "    d = 2\n",
    "    prime_factors = []\n",
    "    while d ** 2 <= number:\n",
    "        while number % d == 0:\n",
    "            number //= d\n",
    "            prime_factors.append(d)\n",
    "        d += 1\n",
    "    if number != 1:\n",
    "        prime_factors.append(number)\n",
    "    return prime_factors"
   ]
  },
  {
   "cell_type": "code",
   "execution_count": 3,
   "metadata": {},
   "outputs": [
    {
     "data": {
      "text/plain": [
       "[2, 2]"
      ]
     },
     "execution_count": 3,
     "metadata": {},
     "output_type": "execute_result"
    }
   ],
   "source": [
    "get_prime_factors(4)"
   ]
  },
  {
   "cell_type": "code",
   "execution_count": 4,
   "metadata": {},
   "outputs": [
    {
     "data": {
      "text/plain": [
       "[2, 5]"
      ]
     },
     "execution_count": 4,
     "metadata": {},
     "output_type": "execute_result"
    }
   ],
   "source": [
    "get_prime_factors(10)"
   ]
  },
  {
   "cell_type": "code",
   "execution_count": 5,
   "metadata": {},
   "outputs": [
    {
     "data": {
      "text/plain": [
       "[2, 2, 2, 3]"
      ]
     },
     "execution_count": 5,
     "metadata": {},
     "output_type": "execute_result"
    }
   ],
   "source": [
    "get_prime_factors(24)"
   ]
  },
  {
   "cell_type": "code",
   "execution_count": 6,
   "metadata": {},
   "outputs": [
    {
     "data": {
      "text/plain": [
       "[11]"
      ]
     },
     "execution_count": 6,
     "metadata": {},
     "output_type": "execute_result"
    }
   ],
   "source": [
    "get_prime_factors(11)"
   ]
  },
  {
   "cell_type": "code",
   "execution_count": 7,
   "metadata": {},
   "outputs": [
    {
     "data": {
      "text/plain": [
       "[2]"
      ]
     },
     "execution_count": 7,
     "metadata": {},
     "output_type": "execute_result"
    }
   ],
   "source": [
    "get_prime_factors(2)"
   ]
  },
  {
   "cell_type": "code",
   "execution_count": 8,
   "metadata": {},
   "outputs": [],
   "source": [
    "def solve(end):\n",
    "    counter = Counter()\n",
    "    for i in range(2, end+1):\n",
    "        for f, cnt in Counter(get_prime_factors(i)).items():\n",
    "            counter[f] = max(counter[f], cnt)\n",
    "    return reduce( lambda a, b: a * b, (f ** cnt for f, cnt in counter.items()), 1)"
   ]
  },
  {
   "cell_type": "code",
   "execution_count": 9,
   "metadata": {},
   "outputs": [
    {
     "data": {
      "text/plain": [
       "2520"
      ]
     },
     "execution_count": 9,
     "metadata": {},
     "output_type": "execute_result"
    }
   ],
   "source": [
    "solve(10)"
   ]
  },
  {
   "cell_type": "code",
   "execution_count": 10,
   "metadata": {},
   "outputs": [
    {
     "data": {
      "text/plain": [
       "232792560"
      ]
     },
     "execution_count": 10,
     "metadata": {},
     "output_type": "execute_result"
    }
   ],
   "source": [
    "solve(20)"
   ]
  }
 ],
 "metadata": {
  "kernelspec": {
   "display_name": "Python 3",
   "language": "python",
   "name": "python3"
  },
  "language_info": {
   "codemirror_mode": {
    "name": "ipython",
    "version": 3
   },
   "file_extension": ".py",
   "mimetype": "text/x-python",
   "name": "python",
   "nbconvert_exporter": "python",
   "pygments_lexer": "ipython3",
   "version": "3.6.1"
  }
 },
 "nbformat": 4,
 "nbformat_minor": 2
}
