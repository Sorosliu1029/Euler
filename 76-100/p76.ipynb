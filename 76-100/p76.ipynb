{
 "cells": [
  {
   "cell_type": "markdown",
   "metadata": {},
   "source": [
    "# Counting summations"
   ]
  },
  {
   "cell_type": "markdown",
   "metadata": {},
   "source": [
    "<div class=\"problem_content\" role=\"problem\">\n",
    "<p>It is possible to write five as a sum in exactly six different ways:</p>\n",
    "<p style=\"margin-left:50px;\">4 + 1<br/>\n",
    "3 + 2<br/>\n",
    "3 + 1 + 1<br/>\n",
    "2 + 2 + 1<br/>\n",
    "2 + 1 + 1 + 1<br/>\n",
    "1 + 1 + 1 + 1 + 1</p>\n",
    "<p>How many different ways can one hundred be written as a sum of at least two positive integers?</p>\n",
    "</div>"
   ]
  },
  {
   "cell_type": "markdown",
   "metadata": {},
   "source": [
    "---"
   ]
  },
  {
   "cell_type": "markdown",
   "metadata": {},
   "source": [
    "### Idea"
   ]
  },
  {
   "cell_type": "markdown",
   "metadata": {},
   "source": [
    "Take 6 as an example:\n",
    "\n",
    "- $ 5+1 $\n",
    "- $ 4+2 , 4+1+1 $\n",
    "- $ 3+3 , 3+2+1 , 3+1+1+1 $\n",
    "- $ 2+2+2 , 2+2+1+1 , 2+1+1+1+1 $\n",
    "- $ 1+1+1+1+1+1 $\n",
    "\n",
    "It can be split into lists whose add number $ \\le i, 1 \\le i \\le n-1 $. We can make a record of (s, i), which stands for `number of summations of 's' that all add numbers less or equal to 'i'` for further usage."
   ]
  },
  {
   "cell_type": "markdown",
   "metadata": {},
   "source": [
    "---"
   ]
  },
  {
   "cell_type": "code",
   "execution_count": 1,
   "metadata": {},
   "outputs": [],
   "source": [
    "def solve(n):\n",
    "    record = {(1, 0): 0}\n",
    "    \n",
    "    for s in range(1, n+1):\n",
    "        record[(s, 1)] = 1\n",
    "        for a in range(2, s):\n",
    "            record[(s, a)] = sum([record[(s-a, p)] for p in range(1, a+1)]) if s-a > a else 1+sum([record[(s-a, m)] for m in range(1, s-a)])\n",
    "    \n",
    "    return sum([record[(n, m)] for m in range(1, n)])"
   ]
  },
  {
   "cell_type": "code",
   "execution_count": 2,
   "metadata": {},
   "outputs": [
    {
     "data": {
      "text/plain": [
       "[0, 1, 2, 4, 6, 10, 14]"
      ]
     },
     "execution_count": 2,
     "metadata": {},
     "output_type": "execute_result"
    }
   ],
   "source": [
    "[solve(i) for i in range(1, 8)]"
   ]
  },
  {
   "cell_type": "code",
   "execution_count": 3,
   "metadata": {},
   "outputs": [
    {
     "data": {
      "text/plain": [
       "190569291"
      ]
     },
     "execution_count": 3,
     "metadata": {},
     "output_type": "execute_result"
    }
   ],
   "source": [
    "solve(100)"
   ]
  }
 ],
 "metadata": {
  "authors": [
   {
    "name": "Soros Liu"
   }
  ],
  "kernelspec": {
   "display_name": "Python 3",
   "language": "python",
   "name": "python3"
  },
  "language_info": {
   "codemirror_mode": {
    "name": "ipython",
    "version": 3
   },
   "file_extension": ".py",
   "mimetype": "text/x-python",
   "name": "python",
   "nbconvert_exporter": "python",
   "pygments_lexer": "ipython3",
   "version": "3.6.1"
  }
 },
 "nbformat": 4,
 "nbformat_minor": 2
}
