{
 "cells": [
  {
   "cell_type": "markdown",
   "metadata": {},
   "source": [
    "# Path sum: four ways"
   ]
  },
  {
   "cell_type": "markdown",
   "metadata": {},
   "source": [
    "<div class=\"problem_content\" role=\"problem\">\n",
    "<p class=\"small_notice\">NOTE: This problem is a significantly more challenging version of <a href=\"https://projecteuler.net/problem=81\">Problem 81</a>.</p>\n",
    "<p>In the 5 by 5 matrix below, the minimal path sum from the top left to the bottom right, by moving left, right, up, and down, is indicated in bold red and is equal to 2297.</p>\n",
    "<div style=\"text-align:center;\">\n",
    "$$\n",
    "\\begin{pmatrix}\n",
    "\\color{red}{131} & 673 & \\color{red}{234} & \\color{red}{103} & \\color{red}{18}\\\\\n",
    "\\color{red}{201} & \\color{red}{96} & \\color{red}{342} & 965 & \\color{red}{150}\\\\\n",
    "630 & 803 & 746 & \\color{red}{422} & \\color{red}{111}\\\\\n",
    "537 & 699 & 497 & \\color{red}{121} & 956\\\\\n",
    "805 & 732 & 524 & \\color{red}{37} & \\color{red}{331}\n",
    "\\end{pmatrix}\n",
    "$$\n",
    "</div>\n",
    "<p>Find the minimal path sum, in <a href=\"https://projecteuler.net/project/resources/p083_matrix.txt\">matrix.txt</a> (right click and \n",
    "\"Save Link/Target As...\"), a 31K text file containing a 80 by 80 matrix, from the top left to the bottom right by moving left, right, up, and down.</p>\n",
    "</div>"
   ]
  },
  {
   "cell_type": "markdown",
   "metadata": {},
   "source": [
    "---"
   ]
  },
  {
   "cell_type": "markdown",
   "metadata": {},
   "source": [
    "### Idea"
   ]
  },
  {
   "cell_type": "markdown",
   "metadata": {},
   "source": [
    "A typical [Dijkstra problem](https://en.wikipedia.org/wiki/Dijkstra%27s_algorithm)."
   ]
  },
  {
   "cell_type": "markdown",
   "metadata": {},
   "source": [
    "---"
   ]
  },
  {
   "cell_type": "code",
   "execution_count": 1,
   "metadata": {
    "collapsed": true
   },
   "outputs": [],
   "source": [
    "from urllib.request import urlopen\n",
    "from itertools import product"
   ]
  },
  {
   "cell_type": "code",
   "execution_count": 2,
   "metadata": {
    "collapsed": true
   },
   "outputs": [],
   "source": [
    "with urlopen('https://projecteuler.net/project/resources/p083_matrix.txt') as f:\n",
    "    resp = f.read().decode('utf-8')"
   ]
  },
  {
   "cell_type": "code",
   "execution_count": 3,
   "metadata": {
    "collapsed": true
   },
   "outputs": [],
   "source": [
    "matrix = [list(map(int, line.split(','))) for line in resp.splitlines()]"
   ]
  },
  {
   "cell_type": "code",
   "execution_count": 4,
   "metadata": {},
   "outputs": [
    {
     "data": {
      "text/plain": [
       "(80, 80)"
      ]
     },
     "execution_count": 4,
     "metadata": {},
     "output_type": "execute_result"
    }
   ],
   "source": [
    "len(matrix), len(matrix[0])"
   ]
  },
  {
   "cell_type": "code",
   "execution_count": 5,
   "metadata": {
    "collapsed": true
   },
   "outputs": [],
   "source": [
    "example_matrix = [\n",
    "    [131, 673, 234, 103, 18],\n",
    "    [201, 96, 342, 965, 150],\n",
    "    [630, 803, 746, 422, 111],\n",
    "    [537, 699, 497, 121, 956],\n",
    "    [805, 732, 524, 37, 331]\n",
    "]"
   ]
  },
  {
   "cell_type": "code",
   "execution_count": 6,
   "metadata": {
    "collapsed": true
   },
   "outputs": [],
   "source": [
    "def get_adjacent_point(p, end_point):\n",
    "    r, c = p\n",
    "    h, w = end_point\n",
    "    points = [(r-1, c), (r+1, c), (r, c-1), (r, c+1)]\n",
    "    if r == 0:\n",
    "        points.remove((r-1, c))\n",
    "    if r == h:\n",
    "        points.remove((r+1, c))\n",
    "    if c == 0:\n",
    "        points.remove((r, c-1))\n",
    "    if c == w:\n",
    "        points.remove((r, c+1))\n",
    "    return points"
   ]
  },
  {
   "cell_type": "code",
   "execution_count": 7,
   "metadata": {
    "collapsed": true
   },
   "outputs": [],
   "source": [
    "def dijkstra(matrix):\n",
    "    end_point = len(matrix)-1, len(matrix[0])-1\n",
    "    assert end_point[0] == end_point[1]\n",
    "    \n",
    "    distance = {}\n",
    "    previous = {}\n",
    "    points = list(product(range(end_point[0]+1), range(end_point[1]+1)))\n",
    "    for p in points:\n",
    "        distance[p] = float('inf')\n",
    "        previous[p] = None\n",
    "    distance[(0, 0)] = matrix[0][0]\n",
    "    \n",
    "    s, q = set(), set(points)\n",
    "    while q:\n",
    "        u = min(q, key=lambda p: distance[p])\n",
    "        if u == end_point:\n",
    "            return distance[u]\n",
    "        q.remove(u)\n",
    "        s.add(u)\n",
    "        for p in get_adjacent_point(u, end_point):\n",
    "            if distance[p] > distance[u] + matrix[p[0]][p[1]]:\n",
    "                distance[p] = distance[u] + matrix[p[0]][p[1]]\n",
    "                previous[p] = u"
   ]
  },
  {
   "cell_type": "code",
   "execution_count": 8,
   "metadata": {
    "collapsed": true
   },
   "outputs": [],
   "source": [
    "def solve(matrix):\n",
    "    return dijkstra(matrix)"
   ]
  },
  {
   "cell_type": "code",
   "execution_count": 9,
   "metadata": {},
   "outputs": [
    {
     "data": {
      "text/plain": [
       "2297"
      ]
     },
     "execution_count": 9,
     "metadata": {},
     "output_type": "execute_result"
    }
   ],
   "source": [
    "solve(example_matrix)"
   ]
  },
  {
   "cell_type": "code",
   "execution_count": 10,
   "metadata": {},
   "outputs": [
    {
     "data": {
      "text/plain": [
       "425185"
      ]
     },
     "execution_count": 10,
     "metadata": {},
     "output_type": "execute_result"
    }
   ],
   "source": [
    "solve(matrix)"
   ]
  }
 ],
 "metadata": {
  "authors": [
   {
    "name": "Soros Liu"
   }
  ],
  "kernelspec": {
   "display_name": "Python [py3]",
   "language": "python",
   "name": "Python [py3]"
  },
  "language_info": {
   "codemirror_mode": {
    "name": "ipython",
    "version": 3
   },
   "file_extension": ".py",
   "mimetype": "text/x-python",
   "name": "python",
   "nbconvert_exporter": "python",
   "pygments_lexer": "ipython3",
   "version": "3.6.4"
  }
 },
 "nbformat": 4,
 "nbformat_minor": 2
}
