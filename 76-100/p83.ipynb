{
 "cells": [
  {
   "cell_type": "markdown",
   "metadata": {},
   "source": [
    "# Path sum: four ways"
   ]
  },
  {
   "cell_type": "markdown",
   "metadata": {},
   "source": [
    "<div class=\"problem_content\" role=\"problem\">\n",
    "<p class=\"small_notice\">NOTE: This problem is a significantly more challenging version of <a href=\"https://projecteuler.net/problem=81\">Problem 81</a>.</p>\n",
    "<p>In the 5 by 5 matrix below, the minimal path sum from the top left to the bottom right, by moving left, right, up, and down, is indicated in bold red and is equal to 2297.</p>\n",
    "<div style=\"text-align:center;\">\n",
    "$$\n",
    "\\begin{pmatrix}\n",
    "\\color{red}{131} & 673 & \\color{red}{234} & \\color{red}{103} & \\color{red}{18}\\\\\n",
    "\\color{red}{201} & \\color{red}{96} & \\color{red}{342} & 965 & \\color{red}{150}\\\\\n",
    "630 & 803 & 746 & \\color{red}{422} & \\color{red}{111}\\\\\n",
    "537 & 699 & 497 & \\color{red}{121} & 956\\\\\n",
    "805 & 732 & 524 & \\color{red}{37} & \\color{red}{331}\n",
    "\\end{pmatrix}\n",
    "$$\n",
    "</div>\n",
    "<p>Find the minimal path sum, in <a href=\"https://projecteuler.net/project/resources/p083_matrix.txt\">matrix.txt</a> (right click and \n",
    "\"Save Link/Target As...\"), a 31K text file containing a 80 by 80 matrix, from the top left to the bottom right by moving left, right, up, and down.</p>\n",
    "</div>"
   ]
  },
  {
   "cell_type": "markdown",
   "metadata": {},
   "source": [
    "---"
   ]
  },
  {
   "cell_type": "markdown",
   "metadata": {},
   "source": [
    "### Idea"
   ]
  },
  {
   "cell_type": "markdown",
   "metadata": {},
   "source": [
    "What's your idea?"
   ]
  },
  {
   "cell_type": "markdown",
   "metadata": {},
   "source": [
    "---"
   ]
  },
  {
   "cell_type": "code",
   "execution_count": 1,
   "metadata": {},
   "outputs": [],
   "source": [
    "from urllib.request import urlopen"
   ]
  },
  {
   "cell_type": "code",
   "execution_count": 2,
   "metadata": {},
   "outputs": [],
   "source": [
    "with urlopen('https://projecteuler.net/project/resources/p083_matrix.txt') as f:\n",
    "    resp = f.read().decode('utf-8')"
   ]
  },
  {
   "cell_type": "code",
   "execution_count": 3,
   "metadata": {},
   "outputs": [],
   "source": [
    "matrix = [list(map(int, line.split(','))) for line in resp.splitlines()]"
   ]
  },
  {
   "cell_type": "code",
   "execution_count": 4,
   "metadata": {},
   "outputs": [
    {
     "data": {
      "text/plain": [
       "(80, 80)"
      ]
     },
     "execution_count": 4,
     "metadata": {},
     "output_type": "execute_result"
    }
   ],
   "source": [
    "len(matrix), len(matrix[0])"
   ]
  },
  {
   "cell_type": "code",
   "execution_count": 5,
   "metadata": {},
   "outputs": [],
   "source": [
    "example_matrix = [\n",
    "    [131, 673, 234, 103, 18],\n",
    "    [201, 96, 342, 965, 150],\n",
    "    [630, 803, 746, 422, 111],\n",
    "    [537, 699, 497, 121, 956],\n",
    "    [805, 732, 524, 37, 331]\n",
    "]"
   ]
  }
 ],
 "metadata": {
  "authors": [
   {
    "name": "Soros Liu"
   }
  ],
  "kernelspec": {
   "display_name": "Python 3",
   "language": "python",
   "name": "python3"
  },
  "language_info": {
   "codemirror_mode": {
    "name": "ipython",
    "version": 3
   },
   "file_extension": ".py",
   "mimetype": "text/x-python",
   "name": "python",
   "nbconvert_exporter": "python",
   "pygments_lexer": "ipython3",
   "version": "3.6.1"
  }
 },
 "nbformat": 4,
 "nbformat_minor": 2
}
