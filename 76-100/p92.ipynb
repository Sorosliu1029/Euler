{
 "cells": [
  {
   "cell_type": "markdown",
   "metadata": {},
   "source": [
    "# Square digit chains"
   ]
  },
  {
   "cell_type": "markdown",
   "metadata": {},
   "source": [
    "<div class=\"problem_content\" role=\"problem\">\n",
    "<p>A number chain is created by continuously adding the square of the digits in a number to form a new number until it has been seen before.</p>\n",
    "<p>For example,</p>\n",
    "<p style=\"margin-left:50px;\">44 → 32 → 13 → 10 → <b>1</b> → <b>1</b><br/>\n",
    "85 → <b>89</b> → 145 → 42 → 20 → 4 → 16 → 37 → 58 → <b>89</b></p>\n",
    "<p>Therefore any chain that arrives at 1 or 89 will become stuck in an endless loop. What is most amazing is that EVERY starting number will eventually arrive at 1 or 89.</p>\n",
    "<p>How many starting numbers below ten million will arrive at 89?</p>\n",
    "</div>"
   ]
  },
  {
   "cell_type": "markdown",
   "metadata": {},
   "source": [
    "---"
   ]
  },
  {
   "cell_type": "markdown",
   "metadata": {},
   "source": [
    "### Idea"
   ]
  },
  {
   "cell_type": "markdown",
   "metadata": {},
   "source": [
    "Iterate through and record groups of '1' and '89'."
   ]
  },
  {
   "cell_type": "markdown",
   "metadata": {},
   "source": [
    "---"
   ]
  },
  {
   "cell_type": "code",
   "execution_count": 1,
   "metadata": {},
   "outputs": [],
   "source": [
    "import sys, os; sys.path.append(os.path.abspath('..'))\n",
    "from timer import timethis"
   ]
  },
  {
   "cell_type": "code",
   "execution_count": 2,
   "metadata": {},
   "outputs": [],
   "source": [
    "record = {\n",
    "    1: set([1]),\n",
    "    89: set([89])\n",
    "}"
   ]
  },
  {
   "cell_type": "code",
   "execution_count": 3,
   "metadata": {},
   "outputs": [],
   "source": [
    "def get_digits(n):\n",
    "    digits = []\n",
    "    while n:\n",
    "        digits.append(n % 10)\n",
    "        n //= 10\n",
    "    return digits"
   ]
  },
  {
   "cell_type": "code",
   "execution_count": 4,
   "metadata": {},
   "outputs": [],
   "source": [
    "@timethis\n",
    "def solve():\n",
    "    cnt = 0\n",
    "    square = lambda i: pow(i, 2)\n",
    "    for i in range(1, int(1e7)+1):\n",
    "        j = i\n",
    "        js = set([i])\n",
    "        while True:\n",
    "            if j in record[1]:\n",
    "                record[1].update(js)\n",
    "                break\n",
    "            elif j in record[89]:\n",
    "                record[89].update(js)\n",
    "                cnt += 1\n",
    "                break\n",
    "            else:\n",
    "                j = sum(map(square, get_digits(j)))\n",
    "                js.add(j)\n",
    "    return cnt"
   ]
  },
  {
   "cell_type": "code",
   "execution_count": 5,
   "metadata": {},
   "outputs": [
    {
     "name": "stdout",
     "output_type": "stream",
     "text": [
      "Run for 59.969 seconds\n"
     ]
    },
    {
     "data": {
      "text/plain": [
       "8581146"
      ]
     },
     "execution_count": 5,
     "metadata": {},
     "output_type": "execute_result"
    }
   ],
   "source": [
    "solve()"
   ]
  }
 ],
 "metadata": {
  "authors": [
   {
    "name": "Soros Liu"
   }
  ],
  "kernelspec": {
   "display_name": "Python 3",
   "language": "python",
   "name": "python3"
  },
  "language_info": {
   "codemirror_mode": {
    "name": "ipython",
    "version": 3
   },
   "file_extension": ".py",
   "mimetype": "text/x-python",
   "name": "python",
   "nbconvert_exporter": "python",
   "pygments_lexer": "ipython3",
   "version": "3.6.1"
  }
 },
 "nbformat": 4,
 "nbformat_minor": 2
}
