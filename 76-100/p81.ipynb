{
 "cells": [
  {
   "cell_type": "markdown",
   "metadata": {},
   "source": [
    "# Path sum: two ways"
   ]
  },
  {
   "cell_type": "markdown",
   "metadata": {},
   "source": [
    "<div class=\"problem_content\" role=\"problem\">\n",
    "<p>In the 5 by 5 matrix below, the minimal path sum from the top left to the bottom right, by <b>only moving to the right and down</b>, is indicated in bold red and is equal to 2427.</p>\n",
    "<div style=\"text-align:center;\">\n",
    "$$\n",
    "\\begin{pmatrix}\n",
    "\\color{red}{131} & 673 & 234 & 103 & 18\\\\\n",
    "\\color{red}{201} & \\color{red}{96} & \\color{red}{342} & 965 & 150\\\\\n",
    "630 & 803 & \\color{red}{746} & \\color{red}{422} & 111\\\\\n",
    "537 & 699 & 497 & \\color{red}{121} & 956\\\\\n",
    "805 & 732 & 524 & \\color{red}{37} & \\color{red}{331}\n",
    "\\end{pmatrix}\n",
    "$$\n",
    "</div>\n",
    "<p>Find the minimal path sum, in <a href=\"https://projecteuler.net/project/resources/p081_matrix.txt\">matrix.txt</a> (right click and \"Save Link/Target As...\"), a 31K text file containing a 80 by 80 matrix, from the top left to the bottom right by only moving right and down.</p>\n",
    "</div>"
   ]
  },
  {
   "cell_type": "markdown",
   "metadata": {},
   "source": [
    "---"
   ]
  },
  {
   "cell_type": "markdown",
   "metadata": {},
   "source": [
    "### Idea"
   ]
  },
  {
   "cell_type": "markdown",
   "metadata": {},
   "source": [
    "A recursive problem. Could be solved by split into smaller matrix: bottom left part, top right part, horizontal inner part and vertical inner part.\n",
    "\n",
    "Use DP to record computed smaller matrix result."
   ]
  },
  {
   "cell_type": "markdown",
   "metadata": {},
   "source": [
    "---"
   ]
  },
  {
   "cell_type": "code",
   "execution_count": 1,
   "metadata": {
    "collapsed": true
   },
   "outputs": [],
   "source": [
    "from urllib.request import urlopen"
   ]
  },
  {
   "cell_type": "code",
   "execution_count": 2,
   "metadata": {
    "collapsed": true
   },
   "outputs": [],
   "source": [
    "with urlopen('https://projecteuler.net/project/resources/p081_matrix.txt') as f:\n",
    "    resp = f.read().decode('utf-8')"
   ]
  },
  {
   "cell_type": "code",
   "execution_count": 3,
   "metadata": {
    "collapsed": true
   },
   "outputs": [],
   "source": [
    "matrix = [list(map(int, line.split(','))) for line in resp.splitlines()]"
   ]
  },
  {
   "cell_type": "code",
   "execution_count": 4,
   "metadata": {
    "scrolled": false
   },
   "outputs": [
    {
     "data": {
      "text/plain": [
       "(80, 80)"
      ]
     },
     "execution_count": 4,
     "metadata": {},
     "output_type": "execute_result"
    }
   ],
   "source": [
    "len(matrix), len(matrix[0])"
   ]
  },
  {
   "cell_type": "code",
   "execution_count": 5,
   "metadata": {
    "collapsed": true
   },
   "outputs": [],
   "source": [
    "example_matrix = [\n",
    "    [131, 673, 234, 103, 18],\n",
    "    [201, 96, 342, 965, 150],\n",
    "    [630, 803, 746, 422, 111],\n",
    "    [537, 699, 497, 121, 956],\n",
    "    [805, 732, 524, 37, 331]\n",
    "]"
   ]
  },
  {
   "cell_type": "code",
   "execution_count": 6,
   "metadata": {
    "collapsed": true
   },
   "outputs": [],
   "source": [
    "def get_smaller_matrix(original_coordinate, part):\n",
    "    tuple_add = lambda t1, t2: (t1[0]+t2[0], t1[1]+t2[1])\n",
    "    original_top_left, original_bottom_right = original_coordinate\n",
    "    if part == 'bl':\n",
    "        return tuple_add(original_top_left, (1, 0)), tuple_add(original_bottom_right, (0, -1))\n",
    "    elif part == 'tr':\n",
    "        return tuple_add(original_top_left, (0, 1)), tuple_add(original_bottom_right, (-1, 0))\n",
    "    elif part == 'hi':\n",
    "        return tuple_add(original_top_left, (1, 0)), tuple_add(original_bottom_right, (-1, 0))\n",
    "    elif part == 'vi':\n",
    "        return tuple_add(original_top_left, (0, 1)), tuple_add(original_bottom_right, (0, -1))\n",
    "    else:\n",
    "        raise ValueError('parameter part must be \"bl\"(for bottom left) or \"tr\"(for top right)\"', \n",
    "                         'or \"hi\"(for horizontal inner) or \"vi\"(for vertical inner)')"
   ]
  },
  {
   "cell_type": "code",
   "execution_count": 7,
   "metadata": {
    "scrolled": false
   },
   "outputs": [
    {
     "data": {
      "text/plain": [
       "(((1, 0), (4, 3)), ((0, 1), (3, 4)))"
      ]
     },
     "execution_count": 7,
     "metadata": {},
     "output_type": "execute_result"
    }
   ],
   "source": [
    "get_smaller_matrix(((0, 0), (4, 4)), 'bl'), get_smaller_matrix(((0, 0), (4, 4)), 'tr')"
   ]
  },
  {
   "cell_type": "code",
   "execution_count": 8,
   "metadata": {},
   "outputs": [],
   "source": [
    "def solve(matrix):\n",
    "    record = {}\n",
    "    def get_min(coordinate):\n",
    "        if coordinate not in record:\n",
    "            record[coordinate] = min_path_sum(coordinate)\n",
    "        return record[coordinate]\n",
    "        \n",
    "    def min_path_sum(coordinate):\n",
    "        top_left, bottom_right = coordinate\n",
    "        if top_left == bottom_right:\n",
    "            return matrix[top_left[0]][top_left[1]]\n",
    "        elif top_left[0] == bottom_right[0]:\n",
    "            return sum(matrix[top_left[0]][top_left[1]:bottom_right[1]+1])\n",
    "        elif top_left[1] == bottom_right[1]:\n",
    "            return sum([matrix[r][top_left[1]] for r in range(top_left[0], bottom_right[0]+1)])\n",
    "        \n",
    "        top_left_v, bottom_right_v = matrix[top_left[0]][top_left[1]], matrix[bottom_right[0]][bottom_right[1]]\n",
    "        \n",
    "        \n",
    "        candidate_min = []\n",
    "        bottom_left_coordinate = get_smaller_matrix(coordinate, 'bl')\n",
    "        candidate_min.append(get_min(bottom_left_coordinate))\n",
    "        top_right_coordinate = get_smaller_matrix(coordinate, 'tr')\n",
    "        candidate_min.append(get_min(top_right_coordinate))\n",
    "        if bottom_right[0] - top_left[0] != 1:\n",
    "            horizontal_inner_coordinate = get_smaller_matrix(coordinate, 'hi')\n",
    "            candidate_min.append(get_min(horizontal_inner_coordinate))\n",
    "        if bottom_right[1] - top_left[1] != 1:\n",
    "            vertical_inner_coordinate = get_smaller_matrix(coordinate, 'vi')\n",
    "            candidate_min.append(get_min(vertical_inner_coordinate))\n",
    "            \n",
    "        return min(candidate_min) + top_left_v + bottom_right_v\n",
    "    \n",
    "    return min_path_sum(((0, 0), (len(matrix)-1, len(matrix)-1)))"
   ]
  },
  {
   "cell_type": "code",
   "execution_count": 9,
   "metadata": {
    "scrolled": false
   },
   "outputs": [
    {
     "data": {
      "text/plain": [
       "2427"
      ]
     },
     "execution_count": 9,
     "metadata": {},
     "output_type": "execute_result"
    }
   ],
   "source": [
    "solve(example_matrix)"
   ]
  },
  {
   "cell_type": "code",
   "execution_count": 10,
   "metadata": {},
   "outputs": [
    {
     "data": {
      "text/plain": [
       "427337"
      ]
     },
     "execution_count": 10,
     "metadata": {},
     "output_type": "execute_result"
    }
   ],
   "source": [
    "solve(matrix)"
   ]
  }
 ],
 "metadata": {
  "authors": [
   {
    "name": "Soros Liu"
   }
  ],
  "kernelspec": {
   "display_name": "Python 3",
   "language": "python",
   "name": "python3"
  },
  "language_info": {
   "codemirror_mode": {
    "name": "ipython",
    "version": 3
   },
   "file_extension": ".py",
   "mimetype": "text/x-python",
   "name": "python",
   "nbconvert_exporter": "python",
   "pygments_lexer": "ipython3",
   "version": "3.6.1"
  }
 },
 "nbformat": 4,
 "nbformat_minor": 2
}
