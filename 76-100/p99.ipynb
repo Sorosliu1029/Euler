{
 "cells": [
  {
   "cell_type": "markdown",
   "metadata": {},
   "source": [
    "# Largest exponential"
   ]
  },
  {
   "cell_type": "markdown",
   "metadata": {},
   "source": [
    "<div class=\"problem_content\" role=\"problem\">\n",
    "<p>Comparing two numbers written in index form like 2<sup>11</sup> and 3<sup>7</sup> is not difficult, as any calculator would confirm that 2<sup>11</sup> = 2048 < 3<sup>7</sup> = 2187.</p>\n",
    "<p>However, confirming that 632382<sup>518061</sup> > 519432<sup>525806</sup> would be much more difficult, as both numbers contain over three million digits.</p>\n",
    "<p>Using <a href=\"https://projecteuler.net/project/resources/p099_base_exp.txt\">base_exp.txt</a> (right click and 'Save Link/Target As...'), a 22K text file containing one thousand lines with a base/exponent pair on each line, determine which line number has the greatest numerical value.</p>\n",
    "<p class=\"info\">NOTE: The first two lines in the file represent the numbers in the example given above.</p>\n",
    "</div>"
   ]
  },
  {
   "cell_type": "markdown",
   "metadata": {},
   "source": [
    "---"
   ]
  },
  {
   "cell_type": "markdown",
   "metadata": {},
   "source": [
    "### Idea"
   ]
  },
  {
   "cell_type": "markdown",
   "metadata": {},
   "source": [
    "Assume two pairs, $ (a_1, b_1) $, $ (a_2, b_2) $, $ m_1 = a_1^{b_1} $, $ m_2 = a_2^{b_2} $, then we can transfer the comparison of $ m_1 $ with $ m_2 $ to comparison of $ \\frac{m_1}{m_2} $ with 1.\n",
    "\n",
    "And it is easy to transfer to comparions of $ \\log\\frac{m_1}{m_2}$ with 0, which means $ \\log{m_1} - \\log{m_2} $ with 0, which means $ b_1 * \\log{a_1} - b2 * \\log{a_2} $ with 0.\n",
    "\n",
    "So the greatest numerical value is the one with greatest value of $ b * \\log{a} $"
   ]
  },
  {
   "cell_type": "markdown",
   "metadata": {},
   "source": [
    "---"
   ]
  },
  {
   "cell_type": "code",
   "execution_count": 1,
   "metadata": {},
   "outputs": [],
   "source": [
    "import sys, os; sys.path.append(os.path.abspath('..'))\n",
    "from timer import timethis\n",
    "from urllib.request import urlopen\n",
    "from math import log"
   ]
  },
  {
   "cell_type": "code",
   "execution_count": 2,
   "metadata": {},
   "outputs": [],
   "source": [
    "with urlopen('https://projecteuler.net/project/resources/p099_base_exp.txt') as f:\n",
    "    resp = f.read().decode('utf-8')"
   ]
  },
  {
   "cell_type": "code",
   "execution_count": 3,
   "metadata": {},
   "outputs": [],
   "source": [
    "pairs = [tuple(map(int, line.split(','))) for line in resp.splitlines()]"
   ]
  },
  {
   "cell_type": "code",
   "execution_count": 4,
   "metadata": {},
   "outputs": [
    {
     "data": {
      "text/plain": [
       "[(519432, 525806),\n",
       " (632382, 518061),\n",
       " (78864, 613712),\n",
       " (466580, 530130),\n",
       " (780495, 510032)]"
      ]
     },
     "execution_count": 4,
     "metadata": {},
     "output_type": "execute_result"
    }
   ],
   "source": [
    "pairs[:5]"
   ]
  },
  {
   "cell_type": "code",
   "execution_count": 5,
   "metadata": {},
   "outputs": [],
   "source": [
    "@timethis\n",
    "def solve():\n",
    "    return max(enumerate(pairs, 1), key=lambda enu: enu[1][1] * log(enu[1][0]))"
   ]
  },
  {
   "cell_type": "code",
   "execution_count": 6,
   "metadata": {},
   "outputs": [
    {
     "name": "stdout",
     "output_type": "stream",
     "text": [
      "Run for 0.000 seconds\n"
     ]
    },
    {
     "data": {
      "text/plain": [
       "(709, (895447, 504922))"
      ]
     },
     "execution_count": 6,
     "metadata": {},
     "output_type": "execute_result"
    }
   ],
   "source": [
    "solve()"
   ]
  }
 ],
 "metadata": {
  "authors": [
   {
    "name": "Soros Liu"
   }
  ],
  "kernelspec": {
   "display_name": "Python 3",
   "language": "python",
   "name": "python3"
  },
  "language_info": {
   "codemirror_mode": {
    "name": "ipython",
    "version": 3
   },
   "file_extension": ".py",
   "mimetype": "text/x-python",
   "name": "python",
   "nbconvert_exporter": "python",
   "pygments_lexer": "ipython3",
   "version": "3.6.1"
  }
 },
 "nbformat": 4,
 "nbformat_minor": 2
}
